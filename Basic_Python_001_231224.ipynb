{
 "cells": [
  {
   "cell_type": "code",
   "execution_count": 1,
   "id": "f3d08a47",
   "metadata": {},
   "outputs": [
    {
     "name": "stdout",
     "output_type": "stream",
     "text": [
      "Hello World!\n"
     ]
    }
   ],
   "source": [
    "print('Hello World!')"
   ]
  },
  {
   "cell_type": "code",
   "execution_count": 2,
   "id": "6a0e1fa4",
   "metadata": {},
   "outputs": [
    {
     "name": "stdout",
     "output_type": "stream",
     "text": [
      "White Christmas\n"
     ]
    }
   ],
   "source": [
    "print('White Christmas') # Shift + Enter"
   ]
  },
  {
   "cell_type": "markdown",
   "id": "8b6308db",
   "metadata": {},
   "source": [
    "# 01 Variable\n",
    "variable은 영어로 써야 해요. 숫자로 시작하면 안 됩니다!"
   ]
  },
  {
   "cell_type": "code",
   "execution_count": 3,
   "id": "dc06805b",
   "metadata": {},
   "outputs": [],
   "source": [
    "first = 5"
   ]
  },
  {
   "cell_type": "code",
   "execution_count": 4,
   "id": "60a7b973",
   "metadata": {},
   "outputs": [
    {
     "ename": "SyntaxError",
     "evalue": "invalid syntax (Temp/ipykernel_29048/1441020419.py, line 1)",
     "output_type": "error",
     "traceback": [
      "\u001b[1;36m  File \u001b[1;32m\"C:\\Users\\stell\\AppData\\Local\\Temp/ipykernel_29048/1441020419.py\"\u001b[1;36m, line \u001b[1;32m1\u001b[0m\n\u001b[1;33m    0first = 5\u001b[0m\n\u001b[1;37m     ^\u001b[0m\n\u001b[1;31mSyntaxError\u001b[0m\u001b[1;31m:\u001b[0m invalid syntax\n"
     ]
    }
   ],
   "source": [
    "0first = 5"
   ]
  },
  {
   "cell_type": "code",
   "execution_count": 5,
   "id": "a2f65540",
   "metadata": {},
   "outputs": [],
   "source": [
    "First = 6"
   ]
  },
  {
   "cell_type": "code",
   "execution_count": 6,
   "id": "3cfbb7b1",
   "metadata": {},
   "outputs": [
    {
     "data": {
      "text/plain": [
       "5"
      ]
     },
     "execution_count": 6,
     "metadata": {},
     "output_type": "execute_result"
    }
   ],
   "source": [
    "# 파이썬은 대소문자를 구별해요!\n",
    "first"
   ]
  },
  {
   "cell_type": "code",
   "execution_count": 7,
   "id": "dbb6a53a",
   "metadata": {},
   "outputs": [
    {
     "data": {
      "text/plain": [
       "6"
      ]
     },
     "execution_count": 7,
     "metadata": {},
     "output_type": "execute_result"
    }
   ],
   "source": [
    "First"
   ]
  },
  {
   "cell_type": "markdown",
   "id": "9471c6fd",
   "metadata": {},
   "source": [
    "# 02 Numbers\n",
    "함수 type()은 괄호 안에 넣은 데이터의 datatype을 보여줍니다."
   ]
  },
  {
   "cell_type": "code",
   "execution_count": 8,
   "id": "4395a2d8",
   "metadata": {},
   "outputs": [
    {
     "data": {
      "text/plain": [
       "int"
      ]
     },
     "execution_count": 8,
     "metadata": {},
     "output_type": "execute_result"
    }
   ],
   "source": [
    "type(27)"
   ]
  },
  {
   "cell_type": "code",
   "execution_count": 9,
   "id": "fe098651",
   "metadata": {},
   "outputs": [
    {
     "data": {
      "text/plain": [
       "float"
      ]
     },
     "execution_count": 9,
     "metadata": {},
     "output_type": "execute_result"
    }
   ],
   "source": [
    "type(91323.78932)"
   ]
  },
  {
   "cell_type": "code",
   "execution_count": 10,
   "id": "abc80386",
   "metadata": {},
   "outputs": [
    {
     "data": {
      "text/plain": [
       "float"
      ]
     },
     "execution_count": 10,
     "metadata": {},
     "output_type": "execute_result"
    }
   ],
   "source": [
    "type(40.0)"
   ]
  },
  {
   "cell_type": "markdown",
   "id": "854ac6ff",
   "metadata": {},
   "source": [
    "## 2-1 Calculation"
   ]
  },
  {
   "cell_type": "code",
   "execution_count": 11,
   "id": "55e24504",
   "metadata": {},
   "outputs": [
    {
     "data": {
      "text/plain": [
       "7"
      ]
     },
     "execution_count": 11,
     "metadata": {},
     "output_type": "execute_result"
    }
   ],
   "source": [
    "3+4"
   ]
  },
  {
   "cell_type": "code",
   "execution_count": 12,
   "id": "c50b1ff4",
   "metadata": {},
   "outputs": [
    {
     "data": {
      "text/plain": [
       "-1"
      ]
     },
     "execution_count": 12,
     "metadata": {},
     "output_type": "execute_result"
    }
   ],
   "source": [
    "3-4"
   ]
  },
  {
   "cell_type": "code",
   "execution_count": 13,
   "id": "ab4fa342",
   "metadata": {},
   "outputs": [
    {
     "data": {
      "text/plain": [
       "12"
      ]
     },
     "execution_count": 13,
     "metadata": {},
     "output_type": "execute_result"
    }
   ],
   "source": [
    "3*4"
   ]
  },
  {
   "cell_type": "code",
   "execution_count": 14,
   "id": "c39563d6",
   "metadata": {},
   "outputs": [
    {
     "data": {
      "text/plain": [
       "12.0"
      ]
     },
     "execution_count": 14,
     "metadata": {},
     "output_type": "execute_result"
    }
   ],
   "source": [
    "3*4.0"
   ]
  },
  {
   "cell_type": "code",
   "execution_count": 15,
   "id": "ae4ddaed",
   "metadata": {},
   "outputs": [
    {
     "data": {
      "text/plain": [
       "0.75"
      ]
     },
     "execution_count": 15,
     "metadata": {},
     "output_type": "execute_result"
    }
   ],
   "source": [
    "3/4"
   ]
  },
  {
   "cell_type": "code",
   "execution_count": 16,
   "id": "7a3a951f",
   "metadata": {},
   "outputs": [
    {
     "data": {
      "text/plain": [
       "0.75"
      ]
     },
     "execution_count": 16,
     "metadata": {},
     "output_type": "execute_result"
    }
   ],
   "source": [
    "3/4.0"
   ]
  },
  {
   "cell_type": "code",
   "execution_count": 17,
   "id": "1c10c947",
   "metadata": {},
   "outputs": [
    {
     "data": {
      "text/plain": [
       "12.0"
      ]
     },
     "execution_count": 17,
     "metadata": {},
     "output_type": "execute_result"
    }
   ],
   "source": [
    "3*4.000"
   ]
  },
  {
   "cell_type": "code",
   "execution_count": 18,
   "id": "6ac49217",
   "metadata": {},
   "outputs": [
    {
     "data": {
      "text/plain": [
       "81"
      ]
     },
     "execution_count": 18,
     "metadata": {},
     "output_type": "execute_result"
    }
   ],
   "source": [
    "3**4"
   ]
  },
  {
   "cell_type": "code",
   "execution_count": 19,
   "id": "816f550c",
   "metadata": {},
   "outputs": [
    {
     "data": {
      "text/plain": [
       "7.0"
      ]
     },
     "execution_count": 19,
     "metadata": {},
     "output_type": "execute_result"
    }
   ],
   "source": [
    "3+4.0"
   ]
  },
  {
   "cell_type": "code",
   "execution_count": 20,
   "id": "78e660cd",
   "metadata": {},
   "outputs": [
    {
     "data": {
      "text/plain": [
       "1.8"
      ]
     },
     "execution_count": 20,
     "metadata": {},
     "output_type": "execute_result"
    }
   ],
   "source": [
    "9/5"
   ]
  },
  {
   "cell_type": "code",
   "execution_count": 21,
   "id": "1b96de10",
   "metadata": {},
   "outputs": [
    {
     "data": {
      "text/plain": [
       "1"
      ]
     },
     "execution_count": 21,
     "metadata": {},
     "output_type": "execute_result"
    }
   ],
   "source": [
    "9//5"
   ]
  },
  {
   "cell_type": "code",
   "execution_count": 22,
   "id": "d4d63c64",
   "metadata": {},
   "outputs": [
    {
     "data": {
      "text/plain": [
       "4"
      ]
     },
     "execution_count": 22,
     "metadata": {},
     "output_type": "execute_result"
    }
   ],
   "source": [
    "9%5"
   ]
  },
  {
   "cell_type": "markdown",
   "id": "0f60f4fc",
   "metadata": {},
   "source": [
    "## 2-2 Type changing\n",
    "- 함수 int() 는 괄호 안에 있는 숫자를 integer로 바꿔줍니다.\n",
    "- 함수 float() 은 괄호 안에 있는 숫자를 float으로 바꿔줍니다."
   ]
  },
  {
   "cell_type": "code",
   "execution_count": 23,
   "id": "bdedbf38",
   "metadata": {},
   "outputs": [
    {
     "data": {
      "text/plain": [
       "1.8"
      ]
     },
     "execution_count": 23,
     "metadata": {},
     "output_type": "execute_result"
    }
   ],
   "source": [
    "9/5"
   ]
  },
  {
   "cell_type": "code",
   "execution_count": 24,
   "id": "0d5fca4b",
   "metadata": {},
   "outputs": [
    {
     "data": {
      "text/plain": [
       "1"
      ]
     },
     "execution_count": 24,
     "metadata": {},
     "output_type": "execute_result"
    }
   ],
   "source": [
    "int(9/5)"
   ]
  },
  {
   "cell_type": "code",
   "execution_count": 25,
   "id": "034e516b",
   "metadata": {},
   "outputs": [
    {
     "data": {
      "text/plain": [
       "1.0"
      ]
     },
     "execution_count": 25,
     "metadata": {},
     "output_type": "execute_result"
    }
   ],
   "source": [
    "float(1)"
   ]
  },
  {
   "cell_type": "code",
   "execution_count": 26,
   "id": "7a1d2b59",
   "metadata": {},
   "outputs": [
    {
     "name": "stdout",
     "output_type": "stream",
     "text": [
      "<class 'float'>\n",
      "<class 'int'>\n"
     ]
    }
   ],
   "source": [
    "print(type(9/5))\n",
    "print(type(int(9/5)))"
   ]
  },
  {
   "cell_type": "markdown",
   "id": "ccb5c67c",
   "metadata": {},
   "source": [
    "# 03 String"
   ]
  },
  {
   "cell_type": "code",
   "execution_count": 27,
   "id": "28373557",
   "metadata": {},
   "outputs": [
    {
     "data": {
      "text/plain": [
       "'python'"
      ]
     },
     "execution_count": 27,
     "metadata": {},
     "output_type": "execute_result"
    }
   ],
   "source": [
    "'python'"
   ]
  },
  {
   "cell_type": "code",
   "execution_count": 28,
   "id": "46784853",
   "metadata": {},
   "outputs": [
    {
     "data": {
      "text/plain": [
       "'python'"
      ]
     },
     "execution_count": 28,
     "metadata": {},
     "output_type": "execute_result"
    }
   ],
   "source": [
    "\"python\""
   ]
  },
  {
   "cell_type": "code",
   "execution_count": 29,
   "id": "323bd6a2",
   "metadata": {},
   "outputs": [
    {
     "data": {
      "text/plain": [
       "\"My dog's ball\""
      ]
     },
     "execution_count": 29,
     "metadata": {},
     "output_type": "execute_result"
    }
   ],
   "source": [
    "\"My dog's ball\""
   ]
  },
  {
   "cell_type": "code",
   "execution_count": 30,
   "id": "2fdf966f",
   "metadata": {},
   "outputs": [
    {
     "data": {
      "text/plain": [
       "int"
      ]
     },
     "execution_count": 30,
     "metadata": {},
     "output_type": "execute_result"
    }
   ],
   "source": [
    "type(3)"
   ]
  },
  {
   "cell_type": "code",
   "execution_count": 31,
   "id": "896d8089",
   "metadata": {},
   "outputs": [
    {
     "data": {
      "text/plain": [
       "str"
      ]
     },
     "execution_count": 31,
     "metadata": {},
     "output_type": "execute_result"
    }
   ],
   "source": [
    "type('3')"
   ]
  },
  {
   "cell_type": "code",
   "execution_count": 32,
   "id": "27e4f8e0",
   "metadata": {},
   "outputs": [
    {
     "data": {
      "text/plain": [
       "str"
      ]
     },
     "execution_count": 32,
     "metadata": {},
     "output_type": "execute_result"
    }
   ],
   "source": [
    "type('3.0')"
   ]
  },
  {
   "cell_type": "code",
   "execution_count": 33,
   "id": "948fcad6",
   "metadata": {},
   "outputs": [
    {
     "ename": "SyntaxError",
     "evalue": "EOL while scanning string literal (Temp/ipykernel_29048/629688603.py, line 1)",
     "output_type": "error",
     "traceback": [
      "\u001b[1;36m  File \u001b[1;32m\"C:\\Users\\stell\\AppData\\Local\\Temp/ipykernel_29048/629688603.py\"\u001b[1;36m, line \u001b[1;32m1\u001b[0m\n\u001b[1;33m    'python\"\u001b[0m\n\u001b[1;37m            ^\u001b[0m\n\u001b[1;31mSyntaxError\u001b[0m\u001b[1;31m:\u001b[0m EOL while scanning string literal\n"
     ]
    }
   ],
   "source": [
    "'python\""
   ]
  },
  {
   "cell_type": "markdown",
   "id": "78b66b38",
   "metadata": {},
   "source": [
    "파이썬의 대원칙! 열어주면 닫아준다, 근데 시작한 거랑 같은 거로 닫아줘야 한다.\n",
    "\n",
    "e.g.) 큰 따옴표로 열어주면 큰 따옴표로 닫아야 한다."
   ]
  },
  {
   "cell_type": "code",
   "execution_count": 34,
   "id": "88a35343",
   "metadata": {},
   "outputs": [],
   "source": [
    "food = \"Python's favorite food is mouse.\""
   ]
  },
  {
   "cell_type": "code",
   "execution_count": 35,
   "id": "38e5115d",
   "metadata": {},
   "outputs": [
    {
     "data": {
      "text/plain": [
       "\"Python's favorite food is mouse.\""
      ]
     },
     "execution_count": 35,
     "metadata": {},
     "output_type": "execute_result"
    }
   ],
   "source": [
    "food"
   ]
  },
  {
   "cell_type": "markdown",
   "id": "fce10076",
   "metadata": {},
   "source": [
    "Life is too short.\n",
    "\n",
    "You need Python.\n",
    "\n",
    "이 문장을 입력하려면 어떻게 해야 할까요?"
   ]
  },
  {
   "cell_type": "code",
   "execution_count": 36,
   "id": "3616b84f",
   "metadata": {},
   "outputs": [],
   "source": [
    "python = \"Life is too short\\nYou need python\""
   ]
  },
  {
   "cell_type": "code",
   "execution_count": 37,
   "id": "ced73a5f",
   "metadata": {},
   "outputs": [
    {
     "name": "stdout",
     "output_type": "stream",
     "text": [
      "Life is too short\n",
      "You need python\n"
     ]
    }
   ],
   "source": [
    "print(python) # \\n을 쓰면 한 줄 띄어주는구나!"
   ]
  },
  {
   "cell_type": "markdown",
   "id": "12aa60fe",
   "metadata": {},
   "source": [
    "## 3-1 String Calculation"
   ]
  },
  {
   "cell_type": "markdown",
   "id": "b1fe13a2",
   "metadata": {},
   "source": [
    "### (1) string과 string의 덧셈"
   ]
  },
  {
   "cell_type": "code",
   "execution_count": 38,
   "id": "9f0a6658",
   "metadata": {},
   "outputs": [],
   "source": [
    "head = 'python'\n",
    "tail = ' is fun!'"
   ]
  },
  {
   "cell_type": "code",
   "execution_count": 39,
   "id": "e078c011",
   "metadata": {},
   "outputs": [
    {
     "data": {
      "text/plain": [
       "'python is fun!'"
      ]
     },
     "execution_count": 39,
     "metadata": {},
     "output_type": "execute_result"
    }
   ],
   "source": [
    "head+tail"
   ]
  },
  {
   "cell_type": "code",
   "execution_count": 40,
   "id": "de3cf446",
   "metadata": {},
   "outputs": [
    {
     "data": {
      "text/plain": [
       "'python is fun!'"
      ]
     },
     "execution_count": 40,
     "metadata": {},
     "output_type": "execute_result"
    }
   ],
   "source": [
    "'python'+' is fun!'"
   ]
  },
  {
   "cell_type": "markdown",
   "id": "3a753f90",
   "metadata": {},
   "source": [
    "### (2) string과 integer의 곱셈"
   ]
  },
  {
   "cell_type": "code",
   "execution_count": 41,
   "id": "65774575",
   "metadata": {},
   "outputs": [
    {
     "data": {
      "text/plain": [
       "'appleappleappleappleapple'"
      ]
     },
     "execution_count": 41,
     "metadata": {},
     "output_type": "execute_result"
    }
   ],
   "source": [
    "a = 'apple'\n",
    "a*5"
   ]
  },
  {
   "cell_type": "code",
   "execution_count": 42,
   "id": "462b3baf",
   "metadata": {},
   "outputs": [
    {
     "data": {
      "text/plain": [
       "'appleappleappleappleapple'"
      ]
     },
     "execution_count": 42,
     "metadata": {},
     "output_type": "execute_result"
    }
   ],
   "source": [
    "'apple'*5"
   ]
  },
  {
   "cell_type": "code",
   "execution_count": 44,
   "id": "2d71143f",
   "metadata": {},
   "outputs": [
    {
     "ename": "TypeError",
     "evalue": "can't multiply sequence by non-int of type 'float'",
     "output_type": "error",
     "traceback": [
      "\u001b[1;31m---------------------------------------------------------------------------\u001b[0m",
      "\u001b[1;31mTypeError\u001b[0m                                 Traceback (most recent call last)",
      "\u001b[1;32m~\\AppData\\Local\\Temp/ipykernel_29048/1811099778.py\u001b[0m in \u001b[0;36m<module>\u001b[1;34m\u001b[0m\n\u001b[1;32m----> 1\u001b[1;33m \u001b[1;34m'lemon'\u001b[0m\u001b[1;33m*\u001b[0m\u001b[1;36m3.0\u001b[0m\u001b[1;33m\u001b[0m\u001b[1;33m\u001b[0m\u001b[0m\n\u001b[0m",
      "\u001b[1;31mTypeError\u001b[0m: can't multiply sequence by non-int of type 'float'"
     ]
    }
   ],
   "source": [
    "'lemon'*3.0"
   ]
  },
  {
   "cell_type": "code",
   "execution_count": 43,
   "id": "e8fb3672",
   "metadata": {},
   "outputs": [
    {
     "ename": "TypeError",
     "evalue": "can't multiply sequence by non-int of type 'str'",
     "output_type": "error",
     "traceback": [
      "\u001b[1;31m---------------------------------------------------------------------------\u001b[0m",
      "\u001b[1;31mTypeError\u001b[0m                                 Traceback (most recent call last)",
      "\u001b[1;32m~\\AppData\\Local\\Temp/ipykernel_29048/1991237205.py\u001b[0m in \u001b[0;36m<module>\u001b[1;34m\u001b[0m\n\u001b[0;32m      1\u001b[0m \u001b[0ma\u001b[0m \u001b[1;33m=\u001b[0m \u001b[1;34m'apple'\u001b[0m\u001b[1;33m\u001b[0m\u001b[1;33m\u001b[0m\u001b[0m\n\u001b[0;32m      2\u001b[0m \u001b[0mb\u001b[0m \u001b[1;33m=\u001b[0m \u001b[1;34m'banana'\u001b[0m\u001b[1;33m\u001b[0m\u001b[1;33m\u001b[0m\u001b[0m\n\u001b[1;32m----> 3\u001b[1;33m \u001b[0ma\u001b[0m\u001b[1;33m*\u001b[0m\u001b[0mb\u001b[0m\u001b[1;33m\u001b[0m\u001b[1;33m\u001b[0m\u001b[0m\n\u001b[0m",
      "\u001b[1;31mTypeError\u001b[0m: can't multiply sequence by non-int of type 'str'"
     ]
    }
   ],
   "source": [
    "# string끼리 곱셈은 안 됩니다!\n",
    "a = 'apple'\n",
    "b = 'banana'\n",
    "a*b"
   ]
  },
  {
   "cell_type": "markdown",
   "id": "77c4c38e",
   "metadata": {},
   "source": [
    "### (3) string 끼리 뺄셈 ??"
   ]
  },
  {
   "cell_type": "code",
   "execution_count": 45,
   "id": "d80fd2b4",
   "metadata": {},
   "outputs": [
    {
     "ename": "TypeError",
     "evalue": "unsupported operand type(s) for -: 'str' and 'str'",
     "output_type": "error",
     "traceback": [
      "\u001b[1;31m---------------------------------------------------------------------------\u001b[0m",
      "\u001b[1;31mTypeError\u001b[0m                                 Traceback (most recent call last)",
      "\u001b[1;32m~\\AppData\\Local\\Temp/ipykernel_29048/2343170377.py\u001b[0m in \u001b[0;36m<module>\u001b[1;34m\u001b[0m\n\u001b[1;32m----> 1\u001b[1;33m \u001b[1;34m'python'\u001b[0m \u001b[1;33m-\u001b[0m \u001b[1;34m'on'\u001b[0m\u001b[1;33m\u001b[0m\u001b[1;33m\u001b[0m\u001b[0m\n\u001b[0m",
      "\u001b[1;31mTypeError\u001b[0m: unsupported operand type(s) for -: 'str' and 'str'"
     ]
    }
   ],
   "source": [
    "'python' - 'on'"
   ]
  },
  {
   "cell_type": "markdown",
   "id": "34440271",
   "metadata": {},
   "source": [
    "### (4) string끼리 나눗셈 ??"
   ]
  },
  {
   "cell_type": "code",
   "execution_count": 46,
   "id": "62607b5f",
   "metadata": {},
   "outputs": [
    {
     "ename": "TypeError",
     "evalue": "unsupported operand type(s) for /: 'str' and 'str'",
     "output_type": "error",
     "traceback": [
      "\u001b[1;31m---------------------------------------------------------------------------\u001b[0m",
      "\u001b[1;31mTypeError\u001b[0m                                 Traceback (most recent call last)",
      "\u001b[1;32m~\\AppData\\Local\\Temp/ipykernel_29048/2669524130.py\u001b[0m in \u001b[0;36m<module>\u001b[1;34m\u001b[0m\n\u001b[1;32m----> 1\u001b[1;33m \u001b[1;34m'python'\u001b[0m \u001b[1;33m/\u001b[0m \u001b[1;34m'n'\u001b[0m\u001b[1;33m\u001b[0m\u001b[1;33m\u001b[0m\u001b[0m\n\u001b[0m",
      "\u001b[1;31mTypeError\u001b[0m: unsupported operand type(s) for /: 'str' and 'str'"
     ]
    }
   ],
   "source": [
    "'python' / 'n'"
   ]
  },
  {
   "cell_type": "code",
   "execution_count": 47,
   "id": "55a1063e",
   "metadata": {},
   "outputs": [
    {
     "ename": "TypeError",
     "evalue": "unsupported operand type(s) for /: 'str' and 'int'",
     "output_type": "error",
     "traceback": [
      "\u001b[1;31m---------------------------------------------------------------------------\u001b[0m",
      "\u001b[1;31mTypeError\u001b[0m                                 Traceback (most recent call last)",
      "\u001b[1;32m~\\AppData\\Local\\Temp/ipykernel_29048/863884995.py\u001b[0m in \u001b[0;36m<module>\u001b[1;34m\u001b[0m\n\u001b[1;32m----> 1\u001b[1;33m \u001b[1;34m'python'\u001b[0m \u001b[1;33m/\u001b[0m \u001b[1;36m6\u001b[0m\u001b[1;33m\u001b[0m\u001b[1;33m\u001b[0m\u001b[0m\n\u001b[0m",
      "\u001b[1;31mTypeError\u001b[0m: unsupported operand type(s) for /: 'str' and 'int'"
     ]
    }
   ],
   "source": [
    "# string과 integer의 나눗셈도 안 돼요!\n",
    "'python' / 6"
   ]
  },
  {
   "cell_type": "markdown",
   "id": "3926db80",
   "metadata": {},
   "source": [
    "## 3-2 여러 가지 함수와 slicing, indexing"
   ]
  },
  {
   "cell_type": "code",
   "execution_count": 48,
   "id": "e320220c",
   "metadata": {},
   "outputs": [
    {
     "data": {
      "text/plain": [
       "5"
      ]
     },
     "execution_count": 48,
     "metadata": {},
     "output_type": "execute_result"
    }
   ],
   "source": [
    "len('apple')"
   ]
  },
  {
   "cell_type": "markdown",
   "id": "7df0f007",
   "metadata": {},
   "source": [
    "### (1) indexing\n",
    "python은 index가 0부터 시작합니다!\n",
    "\n",
    "'apple'\n",
    "\n",
    "0번 index - a\n",
    "\n",
    "1번 index - p\n",
    "\n",
    "2번 index - p\n",
    "\n",
    "3번 index - l\n",
    "\n",
    "4번 index - e"
   ]
  },
  {
   "cell_type": "code",
   "execution_count": 49,
   "id": "7eb00e54",
   "metadata": {},
   "outputs": [],
   "source": [
    "a = 'apple'"
   ]
  },
  {
   "cell_type": "code",
   "execution_count": 50,
   "id": "47f7bfa1",
   "metadata": {},
   "outputs": [
    {
     "data": {
      "text/plain": [
       "'a'"
      ]
     },
     "execution_count": 50,
     "metadata": {},
     "output_type": "execute_result"
    }
   ],
   "source": [
    "a[0]"
   ]
  },
  {
   "cell_type": "code",
   "execution_count": 51,
   "id": "b20e8b42",
   "metadata": {},
   "outputs": [
    {
     "data": {
      "text/plain": [
       "'a'"
      ]
     },
     "execution_count": 51,
     "metadata": {},
     "output_type": "execute_result"
    }
   ],
   "source": [
    "'apple'[0]"
   ]
  },
  {
   "cell_type": "code",
   "execution_count": 52,
   "id": "eddabf1b",
   "metadata": {},
   "outputs": [
    {
     "data": {
      "text/plain": [
       "'e'"
      ]
     },
     "execution_count": 52,
     "metadata": {},
     "output_type": "execute_result"
    }
   ],
   "source": [
    "a[4]"
   ]
  },
  {
   "cell_type": "code",
   "execution_count": 53,
   "id": "8828a9f3",
   "metadata": {},
   "outputs": [
    {
     "data": {
      "text/plain": [
       "'e'"
      ]
     },
     "execution_count": 53,
     "metadata": {},
     "output_type": "execute_result"
    }
   ],
   "source": [
    "a[-1]"
   ]
  },
  {
   "cell_type": "markdown",
   "id": "2dfcc639",
   "metadata": {},
   "source": [
    "'apple' 끝에서부터 세기\n",
    "\n",
    "-5번 index - a\n",
    "\n",
    "-4번 index - p\n",
    "\n",
    "-3번 index - p\n",
    "\n",
    "-2번 index - l\n",
    "\n",
    "-1번 index - e"
   ]
  },
  {
   "cell_type": "code",
   "execution_count": 54,
   "id": "af4c6b73",
   "metadata": {},
   "outputs": [
    {
     "data": {
      "text/plain": [
       "'p'"
      ]
     },
     "execution_count": 54,
     "metadata": {},
     "output_type": "execute_result"
    }
   ],
   "source": [
    "a[-3]"
   ]
  },
  {
   "cell_type": "code",
   "execution_count": 55,
   "id": "1a3ccc78",
   "metadata": {},
   "outputs": [
    {
     "data": {
      "text/plain": [
       "'a'"
      ]
     },
     "execution_count": 55,
     "metadata": {},
     "output_type": "execute_result"
    }
   ],
   "source": [
    "a[-5]"
   ]
  },
  {
   "cell_type": "code",
   "execution_count": 56,
   "id": "714c132a",
   "metadata": {},
   "outputs": [],
   "source": [
    "python = 'Life is to short. You need Python.'"
   ]
  },
  {
   "cell_type": "code",
   "execution_count": 57,
   "id": "af5473f6",
   "metadata": {},
   "outputs": [
    {
     "data": {
      "text/plain": [
       "'Life'"
      ]
     },
     "execution_count": 57,
     "metadata": {},
     "output_type": "execute_result"
    }
   ],
   "source": [
    "python[0]+python[1]+python[2]+python[3]"
   ]
  },
  {
   "cell_type": "markdown",
   "id": "2755ed3c",
   "metadata": {},
   "source": [
    "### (2) slicing"
   ]
  },
  {
   "cell_type": "code",
   "execution_count": 59,
   "id": "a061d7f0",
   "metadata": {},
   "outputs": [
    {
     "data": {
      "text/plain": [
       "'Life'"
      ]
     },
     "execution_count": 59,
     "metadata": {},
     "output_type": "execute_result"
    }
   ],
   "source": [
    "python[0:4] # index가 0이상 4미만에 해당하는 모든 string을 return하세요."
   ]
  },
  {
   "cell_type": "code",
   "execution_count": 60,
   "id": "8f2d3cec",
   "metadata": {},
   "outputs": [
    {
     "data": {
      "text/plain": [
       "'Life is to short. You need Python.'"
      ]
     },
     "execution_count": 60,
     "metadata": {},
     "output_type": "execute_result"
    }
   ],
   "source": [
    "python[:]"
   ]
  },
  {
   "cell_type": "code",
   "execution_count": 61,
   "id": "da0f73cf",
   "metadata": {},
   "outputs": [
    {
     "data": {
      "text/plain": [
       "'Life is to short. You need Python'"
      ]
     },
     "execution_count": 61,
     "metadata": {},
     "output_type": "execute_result"
    }
   ],
   "source": [
    "python[0:-1]"
   ]
  },
  {
   "cell_type": "code",
   "execution_count": 63,
   "id": "4d24aecd",
   "metadata": {},
   "outputs": [
    {
     "data": {
      "text/plain": [
       "'is to short. You need Python.'"
      ]
     },
     "execution_count": 63,
     "metadata": {},
     "output_type": "execute_result"
    }
   ],
   "source": [
    "python[5:] # index 5이상, 끝까지"
   ]
  },
  {
   "cell_type": "code",
   "execution_count": 64,
   "id": "1d4f445f",
   "metadata": {},
   "outputs": [
    {
     "data": {
      "text/plain": [
       "'Life'"
      ]
     },
     "execution_count": 64,
     "metadata": {},
     "output_type": "execute_result"
    }
   ],
   "source": [
    "python[:4] # 처음부터 index 4미만까지"
   ]
  },
  {
   "cell_type": "markdown",
   "id": "84a17f8c",
   "metadata": {},
   "source": [
    "### (3) String is immutable\n",
    "\n",
    "바꿀 수 없다."
   ]
  },
  {
   "cell_type": "code",
   "execution_count": 65,
   "id": "bd7c9877",
   "metadata": {},
   "outputs": [],
   "source": [
    "a = 'Pithon'"
   ]
  },
  {
   "cell_type": "code",
   "execution_count": 66,
   "id": "174f190c",
   "metadata": {},
   "outputs": [
    {
     "data": {
      "text/plain": [
       "'i'"
      ]
     },
     "execution_count": 66,
     "metadata": {},
     "output_type": "execute_result"
    }
   ],
   "source": [
    "a[1]"
   ]
  },
  {
   "cell_type": "code",
   "execution_count": 67,
   "id": "f5d06c49",
   "metadata": {},
   "outputs": [
    {
     "ename": "TypeError",
     "evalue": "'str' object does not support item assignment",
     "output_type": "error",
     "traceback": [
      "\u001b[1;31m---------------------------------------------------------------------------\u001b[0m",
      "\u001b[1;31mTypeError\u001b[0m                                 Traceback (most recent call last)",
      "\u001b[1;32m~\\AppData\\Local\\Temp/ipykernel_29048/2489288207.py\u001b[0m in \u001b[0;36m<module>\u001b[1;34m\u001b[0m\n\u001b[1;32m----> 1\u001b[1;33m \u001b[0ma\u001b[0m\u001b[1;33m[\u001b[0m\u001b[1;36m1\u001b[0m\u001b[1;33m]\u001b[0m \u001b[1;33m=\u001b[0m \u001b[1;34m'y'\u001b[0m\u001b[1;33m\u001b[0m\u001b[1;33m\u001b[0m\u001b[0m\n\u001b[0m",
      "\u001b[1;31mTypeError\u001b[0m: 'str' object does not support item assignment"
     ]
    }
   ],
   "source": [
    "a[1] = 'y'"
   ]
  },
  {
   "cell_type": "code",
   "execution_count": 68,
   "id": "180b90e4",
   "metadata": {},
   "outputs": [
    {
     "data": {
      "text/plain": [
       "'Python'"
      ]
     },
     "execution_count": 68,
     "metadata": {},
     "output_type": "execute_result"
    }
   ],
   "source": [
    "a[0] + 'y' + a[2:]"
   ]
  },
  {
   "cell_type": "code",
   "execution_count": 69,
   "id": "1e0053ef",
   "metadata": {},
   "outputs": [],
   "source": [
    "a = 'pithon'\n",
    "a = 'python'"
   ]
  },
  {
   "cell_type": "code",
   "execution_count": 70,
   "id": "f2514cd8",
   "metadata": {},
   "outputs": [
    {
     "name": "stdout",
     "output_type": "stream",
     "text": [
      "python\n"
     ]
    }
   ],
   "source": [
    "print(a) # 이럴 땐 그냥 덮어쓰세요!"
   ]
  },
  {
   "cell_type": "markdown",
   "id": "e71ae9b7",
   "metadata": {},
   "source": [
    "### (4) 여러 가지 함수 (이해를 돕기 위해 함수라고 썼지만 사실은 method예요)\n",
    "\n",
    "- 함수 : 함수(값)\n",
    "- 메쏘드 : 데이터.메쏘드(필요한것들)"
   ]
  },
  {
   "cell_type": "code",
   "execution_count": 71,
   "id": "4b0f8bd2",
   "metadata": {},
   "outputs": [],
   "source": [
    "a = 'hobby'"
   ]
  },
  {
   "cell_type": "code",
   "execution_count": 72,
   "id": "e7f143fc",
   "metadata": {},
   "outputs": [
    {
     "data": {
      "text/plain": [
       "2"
      ]
     },
     "execution_count": 72,
     "metadata": {},
     "output_type": "execute_result"
    }
   ],
   "source": [
    "a.count('b') # a라는 string 안에 'b'가 몇 개 들어있는 지 알려줌"
   ]
  },
  {
   "cell_type": "code",
   "execution_count": 73,
   "id": "1cd7690c",
   "metadata": {},
   "outputs": [
    {
     "data": {
      "text/plain": [
       "0"
      ]
     },
     "execution_count": 73,
     "metadata": {},
     "output_type": "execute_result"
    }
   ],
   "source": [
    "a.count('n')"
   ]
  },
  {
   "cell_type": "code",
   "execution_count": 74,
   "id": "366ec102",
   "metadata": {},
   "outputs": [],
   "source": [
    "python = 'Life is too short. You need Python'"
   ]
  },
  {
   "cell_type": "code",
   "execution_count": 75,
   "id": "6b40d7b4",
   "metadata": {},
   "outputs": [
    {
     "data": {
      "text/plain": [
       "9"
      ]
     },
     "execution_count": 75,
     "metadata": {},
     "output_type": "execute_result"
    }
   ],
   "source": [
    "python.find('o') # 주어진 string의 가장 첫번째에 나오는 o의 index를 return"
   ]
  },
  {
   "cell_type": "code",
   "execution_count": 76,
   "id": "05679aaf",
   "metadata": {},
   "outputs": [
    {
     "data": {
      "text/plain": [
       "-1"
      ]
     },
     "execution_count": 76,
     "metadata": {},
     "output_type": "execute_result"
    }
   ],
   "source": [
    "python.find('k') # -1이 나오면 '없다'"
   ]
  },
  {
   "cell_type": "code",
   "execution_count": 77,
   "id": "c0ac5e89",
   "metadata": {},
   "outputs": [
    {
     "data": {
      "text/plain": [
       "9"
      ]
     },
     "execution_count": 77,
     "metadata": {},
     "output_type": "execute_result"
    }
   ],
   "source": [
    "python.index('o')"
   ]
  },
  {
   "cell_type": "code",
   "execution_count": 79,
   "id": "01910438",
   "metadata": {},
   "outputs": [
    {
     "ename": "ValueError",
     "evalue": "substring not found",
     "output_type": "error",
     "traceback": [
      "\u001b[1;31m---------------------------------------------------------------------------\u001b[0m",
      "\u001b[1;31mValueError\u001b[0m                                Traceback (most recent call last)",
      "\u001b[1;32m~\\AppData\\Local\\Temp/ipykernel_29048/438601096.py\u001b[0m in \u001b[0;36m<module>\u001b[1;34m\u001b[0m\n\u001b[1;32m----> 1\u001b[1;33m \u001b[0mpython\u001b[0m\u001b[1;33m.\u001b[0m\u001b[0mindex\u001b[0m\u001b[1;33m(\u001b[0m\u001b[1;34m'k'\u001b[0m\u001b[1;33m)\u001b[0m\u001b[1;33m\u001b[0m\u001b[1;33m\u001b[0m\u001b[0m\n\u001b[0m",
      "\u001b[1;31mValueError\u001b[0m: substring not found"
     ]
    }
   ],
   "source": [
    "python.index('k')"
   ]
  },
  {
   "cell_type": "markdown",
   "id": "a35a22ca",
   "metadata": {},
   "source": [
    "abcd -> a,b,c,d 이럴 때는 어떻게 해야 할까요?"
   ]
  },
  {
   "cell_type": "code",
   "execution_count": 80,
   "id": "ec098212",
   "metadata": {},
   "outputs": [
    {
     "data": {
      "text/plain": [
       "'a,b,c,d'"
      ]
     },
     "execution_count": 80,
     "metadata": {},
     "output_type": "execute_result"
    }
   ],
   "source": [
    "','.join('abcd')"
   ]
  },
  {
   "cell_type": "code",
   "execution_count": 81,
   "id": "7feb4f58",
   "metadata": {},
   "outputs": [
    {
     "data": {
      "text/plain": [
       "'HI'"
      ]
     },
     "execution_count": 81,
     "metadata": {},
     "output_type": "execute_result"
    }
   ],
   "source": [
    "a = 'hi'\n",
    "a.upper()"
   ]
  },
  {
   "cell_type": "code",
   "execution_count": 82,
   "id": "5896637c",
   "metadata": {},
   "outputs": [
    {
     "data": {
      "text/plain": [
       "'hello'"
      ]
     },
     "execution_count": 82,
     "metadata": {},
     "output_type": "execute_result"
    }
   ],
   "source": [
    "b = 'HELLO'\n",
    "b.lower()"
   ]
  },
  {
   "cell_type": "code",
   "execution_count": 83,
   "id": "74dfbf7c",
   "metadata": {},
   "outputs": [
    {
     "data": {
      "text/plain": [
       "'Python'"
      ]
     },
     "execution_count": 83,
     "metadata": {},
     "output_type": "execute_result"
    }
   ],
   "source": [
    "\"Pithon\".replace('i', 'y')"
   ]
  },
  {
   "cell_type": "markdown",
   "id": "2a8a1792",
   "metadata": {},
   "source": [
    "## 3-3 Formatting"
   ]
  },
  {
   "cell_type": "code",
   "execution_count": 85,
   "id": "e093eccf",
   "metadata": {},
   "outputs": [
    {
     "name": "stdout",
     "output_type": "stream",
     "text": [
      "apple banna\n"
     ]
    }
   ],
   "source": [
    "# print 할 때 콤마(,)로 연결할 수 있어요!\n",
    "print('apple', 'banna')"
   ]
  },
  {
   "cell_type": "code",
   "execution_count": 84,
   "id": "0a70dd95",
   "metadata": {},
   "outputs": [],
   "source": [
    "a = 22"
   ]
  },
  {
   "cell_type": "code",
   "execution_count": 86,
   "id": "cecb36fe",
   "metadata": {},
   "outputs": [
    {
     "name": "stdout",
     "output_type": "stream",
     "text": [
      "temperature is: 22\n"
     ]
    }
   ],
   "source": [
    "print('temperature is:',a)"
   ]
  },
  {
   "cell_type": "markdown",
   "id": "dcb9bfe3",
   "metadata": {},
   "source": [
    "### (1) 가장 기본적인 formatting (% 사용)\n",
    "- d : integer\n",
    "- f : float\n",
    "- s : string"
   ]
  },
  {
   "cell_type": "code",
   "execution_count": 87,
   "id": "f5d3e39d",
   "metadata": {},
   "outputs": [
    {
     "name": "stdout",
     "output_type": "stream",
     "text": [
      "temperature is 22\n"
     ]
    }
   ],
   "source": [
    "print('temperature is %d' % a)"
   ]
  },
  {
   "cell_type": "code",
   "execution_count": 90,
   "id": "56b0ec10",
   "metadata": {},
   "outputs": [],
   "source": [
    "b=3"
   ]
  },
  {
   "cell_type": "code",
   "execution_count": 91,
   "id": "b71b0665",
   "metadata": {},
   "outputs": [
    {
     "name": "stdout",
     "output_type": "stream",
     "text": [
      "I ate 3 apples today\n"
     ]
    }
   ],
   "source": [
    "print('I ate %d apples today' % b)"
   ]
  },
  {
   "cell_type": "code",
   "execution_count": 92,
   "id": "cc35bd9d",
   "metadata": {},
   "outputs": [],
   "source": [
    "d = 'dog'"
   ]
  },
  {
   "cell_type": "code",
   "execution_count": 94,
   "id": "fcfb2d4e",
   "metadata": {},
   "outputs": [
    {
     "name": "stdout",
     "output_type": "stream",
     "text": [
      "I love dog\n"
     ]
    }
   ],
   "source": [
    "print('I love %s'%d)"
   ]
  },
  {
   "cell_type": "code",
   "execution_count": 95,
   "id": "64d8c5de",
   "metadata": {},
   "outputs": [
    {
     "name": "stdout",
     "output_type": "stream",
     "text": [
      "I ate 3 apples today\n"
     ]
    }
   ],
   "source": [
    "c = '3'\n",
    "print('I ate %s apples today' % c)"
   ]
  },
  {
   "cell_type": "code",
   "execution_count": 102,
   "id": "b77878aa",
   "metadata": {},
   "outputs": [
    {
     "name": "stdout",
     "output_type": "stream",
     "text": [
      "error rate is 0.300000 %\n"
     ]
    }
   ],
   "source": [
    "print('error rate is %f %%'%0.3)\n",
    "# %를 써서 formatting을 할 때는 우리가 아는 퍼센트 기호는 %% 를 써야 나와요!"
   ]
  },
  {
   "cell_type": "code",
   "execution_count": 100,
   "id": "cc1e0f09",
   "metadata": {},
   "outputs": [
    {
     "name": "stdout",
     "output_type": "stream",
     "text": [
      "error rate is 0.3 %\n"
     ]
    }
   ],
   "source": [
    "print('error rate is 0.3 %')"
   ]
  },
  {
   "cell_type": "code",
   "execution_count": 104,
   "id": "2d2d8887",
   "metadata": {},
   "outputs": [
    {
     "name": "stdout",
     "output_type": "stream",
     "text": [
      "error rate is 0.949%\n"
     ]
    }
   ],
   "source": [
    "print('error rate is %0.3f%%'%0.949328749327415423413)\n",
    "# 0.xf : 소수 x번째 자리만큼 float type으로 출력해라."
   ]
  },
  {
   "cell_type": "code",
   "execution_count": 106,
   "id": "6cf39eb7",
   "metadata": {},
   "outputs": [
    {
     "name": "stdout",
     "output_type": "stream",
     "text": [
      "error rate is 0%\n"
     ]
    }
   ],
   "source": [
    "print('error rate is %d%%'%0.949328749327415423413)\n",
    "#float을 넣었는데 formatting에서 d를 넣으라고 시키면 그 float의 '정수부분'이 나와요."
   ]
  },
  {
   "cell_type": "code",
   "execution_count": null,
   "id": "d0cb6b11",
   "metadata": {},
   "outputs": [],
   "source": []
  }
 ],
 "metadata": {
  "kernelspec": {
   "display_name": "Python 3 (ipykernel)",
   "language": "python",
   "name": "python3"
  },
  "language_info": {
   "codemirror_mode": {
    "name": "ipython",
    "version": 3
   },
   "file_extension": ".py",
   "mimetype": "text/x-python",
   "name": "python",
   "nbconvert_exporter": "python",
   "pygments_lexer": "ipython3",
   "version": "3.11.6"
  }
 },
 "nbformat": 4,
 "nbformat_minor": 5
}
