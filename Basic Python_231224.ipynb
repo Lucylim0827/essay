{
 "cells": [
  {
   "cell_type": "code",
   "execution_count": 1,
   "id": "6dea5b10-c870-42ba-b149-fff1128abba7",
   "metadata": {},
   "outputs": [
    {
     "name": "stdout",
     "output_type": "stream",
     "text": [
      "Hello World!\n"
     ]
    }
   ],
   "source": [
    "print('Hello World!')"
   ]
  },
  {
   "cell_type": "code",
   "execution_count": null,
   "id": "8c4dfab4-4d34-45c9-b44d-f962370d2069",
   "metadata": {},
   "outputs": [],
   "source": [
    "print('White Christmas') #shift+enter"
   ]
  },
  {
   "cell_type": "markdown",
   "id": "20dcbb9e-cedc-4075-91ce-eb478b9f133a",
   "metadata": {},
   "source": [
    "### 01 Variable\n",
    "파이썬은 대소문자를 구분하며, 숫자로 시작하면 안 된다"
   ]
  },
  {
   "cell_type": "markdown",
   "id": "aa84496a-c61c-4bc9-a2e9-0ddb582dcb85",
   "metadata": {},
   "source": [
    "### 02 Numbers\n",
    "함수 type()은 괄호 안에 넣은 데이터의 datatype을 보여준다"
   ]
  },
  {
   "cell_type": "markdown",
   "id": "176c08f4-9885-41b5-876b-c7d826ab2a0d",
   "metadata": {},
   "source": [
    "### 02-1 Calculation"
   ]
  },
  {
   "cell_type": "markdown",
   "id": "182a8940-5fb9-404f-ae6b-586f02269e95",
   "metadata": {},
   "source": [
    "### 02-2 Type Changing\n",
    "함수 int()는 괄호 안에 있는 숫자를 integer로 바꿔준다\n",
    "\n",
    "함수 float()는 괄호 안에 있는 숫자를 float로 바꿔준다"
   ]
  },
  {
   "cell_type": "code",
   "execution_count": 7,
   "id": "53762f38-f4cd-46c1-a95c-68757ccb5c53",
   "metadata": {},
   "outputs": [
    {
     "data": {
      "text/plain": [
       "'appleappleappleappleapple'"
      ]
     },
     "execution_count": 7,
     "metadata": {},
     "output_type": "execute_result"
    }
   ],
   "source": [
    "5*'apple'"
   ]
  },
  {
   "cell_type": "code",
   "execution_count": null,
   "id": "7eacc1ae-76b6-4e9a-b94c-5dbcceb153ba",
   "metadata": {},
   "outputs": [],
   "source": [
    "### str은 int랑만 곱셈이 가능"
   ]
  },
  {
   "cell_type": "markdown",
   "id": "45a0c9a9-dba5-429c-9f23-8f96543eba4c",
   "metadata": {},
   "source": [
    "### 03 Calculation\n",
    "Slicing, indexing"
   ]
  },
  {
   "cell_type": "code",
   "execution_count": null,
   "id": "46a8fa6c-3342-4d53-9d06-ade3a344a98b",
   "metadata": {},
   "outputs": [],
   "source": []
  }
 ],
 "metadata": {
  "kernelspec": {
   "display_name": "Python 3 (ipykernel)",
   "language": "python",
   "name": "python3"
  },
  "language_info": {
   "codemirror_mode": {
    "name": "ipython",
    "version": 3
   },
   "file_extension": ".py",
   "mimetype": "text/x-python",
   "name": "python",
   "nbconvert_exporter": "python",
   "pygments_lexer": "ipython3",
   "version": "3.11.6"
  }
 },
 "nbformat": 4,
 "nbformat_minor": 5
}
