{
 "cells": [
  {
   "cell_type": "markdown",
   "metadata": {
    "id": "RI8LKwpXwFly"
   },
   "source": [
    "**문제1) 연산기호를 이용해 수식으로 표현해보고 그 결과를 확인해보세요.**\n",
    "\n",
    "* integer 25와 integer 12를 더하시오.\n",
    "* integer 13에서 integer 19를 빼시오.\n",
    "* integer 92과 float 8.0 을 곱하시오.\n",
    "* float 81.5을 float 2.0으로 나누시오.\n",
    "* integer 7를 5로 나눴을 때, 몫을 구하시오.\n",
    "* interger 100을 interger 7로 나눈 나머지를 구하시오.\n",
    "* integer 3의 세제곱을 구하시오."
   ]
  },
  {
   "cell_type": "code",
   "execution_count": 1,
   "metadata": {
    "id": "LKxVkEj_PMvZ"
   },
   "outputs": [
    {
     "data": {
      "text/plain": [
       "37"
      ]
     },
     "execution_count": 1,
     "metadata": {},
     "output_type": "execute_result"
    }
   ],
   "source": [
    "25+12"
   ]
  },
  {
   "cell_type": "code",
   "execution_count": 2,
   "metadata": {},
   "outputs": [
    {
     "data": {
      "text/plain": [
       "-6"
      ]
     },
     "execution_count": 2,
     "metadata": {},
     "output_type": "execute_result"
    }
   ],
   "source": [
    "13-19"
   ]
  },
  {
   "cell_type": "code",
   "execution_count": 3,
   "metadata": {},
   "outputs": [
    {
     "data": {
      "text/plain": [
       "736.0"
      ]
     },
     "execution_count": 3,
     "metadata": {},
     "output_type": "execute_result"
    }
   ],
   "source": [
    "92*8.0"
   ]
  },
  {
   "cell_type": "code",
   "execution_count": 4,
   "metadata": {},
   "outputs": [
    {
     "data": {
      "text/plain": [
       "40.75"
      ]
     },
     "execution_count": 4,
     "metadata": {},
     "output_type": "execute_result"
    }
   ],
   "source": [
    "81.5/2.0"
   ]
  },
  {
   "cell_type": "code",
   "execution_count": 5,
   "metadata": {},
   "outputs": [
    {
     "data": {
      "text/plain": [
       "1"
      ]
     },
     "execution_count": 5,
     "metadata": {},
     "output_type": "execute_result"
    }
   ],
   "source": [
    "7//5"
   ]
  },
  {
   "cell_type": "code",
   "execution_count": 6,
   "metadata": {},
   "outputs": [
    {
     "data": {
      "text/plain": [
       "2"
      ]
     },
     "execution_count": 6,
     "metadata": {},
     "output_type": "execute_result"
    }
   ],
   "source": [
    "100%7"
   ]
  },
  {
   "cell_type": "code",
   "execution_count": 7,
   "metadata": {},
   "outputs": [
    {
     "data": {
      "text/plain": [
       "27"
      ]
     },
     "execution_count": 7,
     "metadata": {},
     "output_type": "execute_result"
    }
   ],
   "source": [
    "3**3"
   ]
  },
  {
   "cell_type": "markdown",
   "metadata": {
    "id": "44dzH2aeHN3T"
   },
   "source": [
    "**문제2) 다음 각각의 자료형을 말하고, 코드를 작성하여 결과를 확인해보세요.**\n",
    "\n",
    "* `3`\n",
    "* `3.0`\n",
    "* `'3'`\n",
    "* `'3.0'`\n",
    "* `\"3\"`\n",
    "* `\"3.0\"`"
   ]
  },
  {
   "cell_type": "code",
   "execution_count": 8,
   "metadata": {},
   "outputs": [
    {
     "data": {
      "text/plain": [
       "int"
      ]
     },
     "execution_count": 8,
     "metadata": {},
     "output_type": "execute_result"
    }
   ],
   "source": [
    "# integer\n",
    "type(3)"
   ]
  },
  {
   "cell_type": "code",
   "execution_count": 9,
   "metadata": {},
   "outputs": [
    {
     "data": {
      "text/plain": [
       "float"
      ]
     },
     "execution_count": 9,
     "metadata": {},
     "output_type": "execute_result"
    }
   ],
   "source": [
    "# float\n",
    "type(3.0)"
   ]
  },
  {
   "cell_type": "code",
   "execution_count": 11,
   "metadata": {},
   "outputs": [
    {
     "data": {
      "text/plain": [
       "str"
      ]
     },
     "execution_count": 11,
     "metadata": {},
     "output_type": "execute_result"
    }
   ],
   "source": [
    "# string\n",
    "type('3')"
   ]
  },
  {
   "cell_type": "code",
   "execution_count": 12,
   "metadata": {},
   "outputs": [
    {
     "data": {
      "text/plain": [
       "str"
      ]
     },
     "execution_count": 12,
     "metadata": {},
     "output_type": "execute_result"
    }
   ],
   "source": [
    "# string\n",
    "type('3.0')"
   ]
  },
  {
   "cell_type": "code",
   "execution_count": 13,
   "metadata": {},
   "outputs": [
    {
     "data": {
      "text/plain": [
       "str"
      ]
     },
     "execution_count": 13,
     "metadata": {},
     "output_type": "execute_result"
    }
   ],
   "source": [
    "# string\n",
    "type(\"3\")"
   ]
  },
  {
   "cell_type": "code",
   "execution_count": 14,
   "metadata": {},
   "outputs": [
    {
     "data": {
      "text/plain": [
       "str"
      ]
     },
     "execution_count": 14,
     "metadata": {},
     "output_type": "execute_result"
    }
   ],
   "source": [
    "# string\n",
    "type(\"3.0\")"
   ]
  },
  {
   "cell_type": "markdown",
   "metadata": {
    "id": "pukVZ9ft_d8b"
   },
   "source": [
    "**문제3) 우유 가격은 1830원이고, 아이스크림 가격은 1500원입니다. 아이스크림은 3개이상 구입시 5%를 할인해줍니다. 우유 2개와 아이스크림 3개를 구입할 때 지불해야 하는 가격을 변수를 활용하여 코드로 작성해보세요.**"
   ]
  },
  {
   "cell_type": "code",
   "execution_count": 51,
   "metadata": {},
   "outputs": [
    {
     "name": "stdout",
     "output_type": "stream",
     "text": [
      "7935.0\n"
     ]
    }
   ],
   "source": [
    "a=2\n",
    "b=3\n",
    "milk=1830*a\n",
    "icecream=1500*b\n",
    "if b>=3:\n",
    "    icecream=icecream*0.95\n",
    "print(milk+icecream)"
   ]
  },
  {
   "cell_type": "markdown",
   "metadata": {
    "id": "kneGP1FnA2mt"
   },
   "source": [
    "**문제4) 1㎡는 0.3025평입니다. 84㎡는 몇 평인가요? 반대로 30평은 몇 ㎡인가요?**"
   ]
  },
  {
   "cell_type": "code",
   "execution_count": 26,
   "metadata": {},
   "outputs": [
    {
     "name": "stdout",
     "output_type": "stream",
     "text": [
      "25.41\n",
      "9.075\n"
     ]
    }
   ],
   "source": [
    "width=0.3025\n",
    "print(width*84)\n",
    "print(width*30)"
   ]
  },
  {
   "cell_type": "markdown",
   "metadata": {
    "id": "HQXniMMaL3Yk"
   },
   "source": [
    "**문제5) 100만원을 월이율 3%인 예금에 1년간 복리로 은행에 맡겼습니다. 1년후에 받는 돈은 얼마인지를 확인하는 코드를 작성해보세요. 출력된 결과는 아래와 같습니다.**\n",
    "\n",
    "> 1년 후 받는 원금 + 이자는 OOO원입니다."
   ]
  },
  {
   "cell_type": "code",
   "execution_count": 29,
   "metadata": {},
   "outputs": [
    {
     "name": "stdout",
     "output_type": "stream",
     "text": [
      "1년 후 받는 원금 + 이자는 1425760.886846원입니다.\n"
     ]
    }
   ],
   "source": [
    "capital=1000000\n",
    "int_rate=0.03\n",
    "total=capital*(1+int_rate)**12\n",
    "print('1년 후 받는 원금 + 이자는 %f원입니다.' % total)"
   ]
  },
  {
   "cell_type": "markdown",
   "metadata": {
    "id": "QdWxtc4vForM"
   },
   "source": [
    "**문제6) string 연산을 이용하여 다음의 실행결과가 나오도록 코드를 작성해보세요.**\n",
    "\n",
    "(1)\n",
    "\n",
    "```\n",
    "안녕하세요. 안녕하세요. 안녕하세요.\n",
    "```\n",
    "\n",
    "(2)\n",
    "```\n",
    "안녕하세요.\n",
    "안녕하세요.\n",
    "안녕하세요.\n",
    "안녕하세요.\n",
    "안녕하세요.\n",
    "```"
   ]
  },
  {
   "cell_type": "code",
   "execution_count": 55,
   "metadata": {},
   "outputs": [
    {
     "name": "stdout",
     "output_type": "stream",
     "text": [
      "안녕하세요. 안녕하세요. 안녕하세요. \n",
      "\n",
      "\n",
      "안녕하세요.\n",
      "안녕하세요.\n",
      "안녕하세요.\n",
      "안녕하세요.\n",
      "안녕하세요.\n",
      "\n"
     ]
    }
   ],
   "source": [
    "print('안녕하세요. '*3)\n",
    "print('\\n')\n",
    "print('안녕하세요.\\n'*5)"
   ]
  },
  {
   "cell_type": "markdown",
   "metadata": {
    "id": "Nl6v2s4cGZBO"
   },
   "source": [
    "**문제7) `dogs`와 `cats` 두 개의 변수가 다음과 같이 assign되었습니다.**  \n",
    "`dogs, cats = '12', '7'`  \n",
    "\n",
    "(1) `dogs`와 `cats` 변수에 할당된 값의 자료형을 확인해보세요.  \n",
    "(2) 강아지가 고양이보다 몇 마리 더 많은지 확인하는 코드를 작성해보세요. 출력된 결과는 아래와 같은 형식입니다. formatting을 사용해서 표현해보세요.\n",
    "> 강아지가 고양이보다 n 마리 더 많다."
   ]
  },
  {
   "cell_type": "code",
   "execution_count": 69,
   "metadata": {},
   "outputs": [
    {
     "name": "stdout",
     "output_type": "stream",
     "text": [
      "<class 'int'> <class 'int'>\n",
      "강아지가 고양이보다 5마리 더 많다.\n"
     ]
    }
   ],
   "source": [
    "dogs=12\n",
    "cats=7\n",
    "print(type(dogs), type(cats))\n",
    "if dogs>cats:\n",
    "    n=dogs-cats\n",
    "    print('강아지가 고양이보다 %d마리 더 많다.' % n)"
   ]
  },
  {
   "cell_type": "markdown",
   "metadata": {
    "id": "pqHu87CyL1zr"
   },
   "source": [
    "**문제8) 다음 문제에 답해봅시다.**   \n",
    "\n",
    "`colors = 'red blue yellow'`  \n",
    "\n",
    "1) `colors`에서 `b`를 추출하는 코드를 작성해보세요."
   ]
  },
  {
   "cell_type": "code",
   "execution_count": 72,
   "metadata": {},
   "outputs": [
    {
     "data": {
      "text/plain": [
       "'b'"
      ]
     },
     "execution_count": 72,
     "metadata": {},
     "output_type": "execute_result"
    }
   ],
   "source": [
    "colors = 'red blue yellow'\n",
    "colors[4]"
   ]
  },
  {
   "cell_type": "markdown",
   "metadata": {
    "id": "hDBO0Lu2NzWK"
   },
   "source": [
    "2) `colors`에서 `low`를 추출하는 코드를 작성해보세요."
   ]
  },
  {
   "cell_type": "code",
   "execution_count": 74,
   "metadata": {},
   "outputs": [
    {
     "data": {
      "text/plain": [
       "'low'"
      ]
     },
     "execution_count": 74,
     "metadata": {},
     "output_type": "execute_result"
    }
   ],
   "source": [
    "colors = 'red blue yellow'\n",
    "colors[-3:]"
   ]
  },
  {
   "cell_type": "markdown",
   "metadata": {
    "id": "aNPSnSfQOeOb"
   },
   "source": [
    "3) `colors`에서 `due`를 추출하는 코드를 작성해보세요."
   ]
  },
  {
   "cell_type": "code",
   "execution_count": 76,
   "metadata": {},
   "outputs": [
    {
     "data": {
      "text/plain": [
       "'due'"
      ]
     },
     "execution_count": 76,
     "metadata": {},
     "output_type": "execute_result"
    }
   ],
   "source": [
    "colors = 'red blue yellow'\n",
    "colors[2]+colors[6:8]"
   ]
  },
  {
   "cell_type": "markdown",
   "metadata": {
    "id": "1pCz7In9K3WS"
   },
   "source": [
    "**문제9) 다음 문제에 답해봅시다.**  \n",
    "\n",
    "1) `'12345' * 3` 한 것을 변수 `nums`에 할당해보세요. "
   ]
  },
  {
   "cell_type": "code",
   "execution_count": 77,
   "metadata": {},
   "outputs": [],
   "source": [
    "nums='12345'*3"
   ]
  },
  {
   "cell_type": "markdown",
   "metadata": {
    "id": "utM03-eNLZSI"
   },
   "source": [
    "2) `nums`에서 `111`을 추출하는 코드를 작성해보세요."
   ]
  },
  {
   "cell_type": "code",
   "execution_count": 78,
   "metadata": {},
   "outputs": [
    {
     "data": {
      "text/plain": [
       "'111'"
      ]
     },
     "execution_count": 78,
     "metadata": {},
     "output_type": "execute_result"
    }
   ],
   "source": [
    "nums='12345'*3\n",
    "nums[0]+nums[5]+nums[10]"
   ]
  },
  {
   "cell_type": "markdown",
   "metadata": {
    "id": "lG6zaLWrLjod"
   },
   "source": [
    "3) `nums`에서 `555`을 추출하는 코드를 작성해보세요."
   ]
  },
  {
   "cell_type": "code",
   "execution_count": 79,
   "metadata": {},
   "outputs": [
    {
     "data": {
      "text/plain": [
       "'555'"
      ]
     },
     "execution_count": 79,
     "metadata": {},
     "output_type": "execute_result"
    }
   ],
   "source": [
    "nums='12345'*3\n",
    "nums[4]+nums[9]+nums[14]"
   ]
  },
  {
   "cell_type": "markdown",
   "metadata": {},
   "source": [
    "**문제10) 다음 중 variable의 이름으로 적당하지 않은 것은? 그리고 그 이유는?**  \n",
    "\n",
    "1) `WelshCorgi`\n",
    "2) `20231225`\n",
    "3) `__dog`"
   ]
  },
  {
   "cell_type": "markdown",
   "metadata": {},
   "source": [
    "20231225, 숫자로 시작하기 때문에"
   ]
  },
  {
   "cell_type": "markdown",
   "metadata": {},
   "source": [
    "**문제11) 아래 cell을 실행하면 for loop이 돌면서 11개의 문장을 차례대로 출력합니다. i에는 차례대로 0, 1, 2, ..., 9 가 할당 (assign) 되어있습니다. 우리는 아래 cell을 수정해서 다음과 같은 출력을 내고 싶습니다. 어떻게 해야 할까요?**\n",
    "\n",
    "HINT) print(i+1) 부분을 수정하면 됩니다! i+1은 건들면 안 돼요.\n",
    "\n",
    "\n",
    "`나무 1번 찍습니다.`\n",
    "\n",
    "`나무 2번 찍습니다.`\n",
    "\n",
    "`나무 3번 찍습니다.`\n",
    "\n",
    "`나무 4번 찍습니다.`\n",
    "\n",
    "`나무 5번 찍습니다.`\n",
    "\n",
    "`나무 6번 찍습니다.`\n",
    "\n",
    "`나무 7번 찍습니다.`\n",
    "\n",
    "`나무 8번 찍습니다.`\n",
    "\n",
    "`나무 9번 찍습니다.`\n",
    "\n",
    "`나무 10번 찍습니다.`\n",
    "\n",
    "`나무 넘어갑니다.`"
   ]
  },
  {
   "cell_type": "code",
   "execution_count": 86,
   "metadata": {},
   "outputs": [
    {
     "name": "stdout",
     "output_type": "stream",
     "text": [
      "1\n",
      "2\n",
      "3\n",
      "4\n",
      "5\n",
      "6\n",
      "7\n",
      "8\n",
      "9\n",
      "10\n",
      "나무 넘어갑니다.\n"
     ]
    }
   ],
   "source": [
    "for i in range(10):\n",
    "    print(i+1)\n",
    "    if i==9:\n",
    "        print('나무 넘어갑니다.')"
   ]
  },
  {
   "cell_type": "code",
   "execution_count": 87,
   "metadata": {},
   "outputs": [
    {
     "name": "stdout",
     "output_type": "stream",
     "text": [
      "나무 1번 찍습니다.\n",
      "나무 2번 찍습니다.\n",
      "나무 3번 찍습니다.\n",
      "나무 4번 찍습니다.\n",
      "나무 5번 찍습니다.\n",
      "나무 6번 찍습니다.\n",
      "나무 7번 찍습니다.\n",
      "나무 8번 찍습니다.\n",
      "나무 9번 찍습니다.\n",
      "나무 10번 찍습니다.\n",
      "나무 넘어갑니다.\n"
     ]
    }
   ],
   "source": [
    "for i in range(10):\n",
    "    n=i+1\n",
    "    print('나무 %d번 찍습니다.' % n)\n",
    "    if i==9:\n",
    "        print('나무 넘어갑니다.')"
   ]
  },
  {
   "cell_type": "markdown",
   "metadata": {},
   "source": [
    "**문제12) 아래 문장의 오타를 전부 고쳐서 출력해보세요.**"
   ]
  },
  {
   "cell_type": "code",
   "execution_count": 5,
   "metadata": {},
   "outputs": [],
   "source": [
    "sentence = 'My name ist Stella. I love puppppies and chocolata.'"
   ]
  },
  {
   "cell_type": "code",
   "execution_count": 95,
   "metadata": {},
   "outputs": [
    {
     "data": {
      "text/plain": [
       "'My name is Stella. I love puppies and chocolate.'"
      ]
     },
     "execution_count": 95,
     "metadata": {},
     "output_type": "execute_result"
    }
   ],
   "source": [
    "sentence = 'My name ist Stella. I love puppppies and chocolata.'\n",
    "sentence[:10]+sentence[11:31]+sentence[33:49]+'e'+sentence[-1]"
   ]
  },
  {
   "cell_type": "markdown",
   "metadata": {},
   "source": [
    "**문제13) 자동차 번호가 다음과 같을 때 뒤에 4자리만 출력해보세요.**"
   ]
  },
  {
   "cell_type": "code",
   "execution_count": 7,
   "metadata": {},
   "outputs": [],
   "source": [
    "license_plate = \"28가 2291\""
   ]
  },
  {
   "cell_type": "code",
   "execution_count": 96,
   "metadata": {},
   "outputs": [
    {
     "data": {
      "text/plain": [
       "'2291'"
      ]
     },
     "execution_count": 96,
     "metadata": {},
     "output_type": "execute_result"
    }
   ],
   "source": [
    "license_plate = \"28가 2291\"\n",
    "license_plate[-4:]"
   ]
  },
  {
   "cell_type": "markdown",
   "metadata": {},
   "source": [
    "**문제14) 다음의 전화번호에서 하이픈 ('-')을 제거하고 다음과 같이 출력해보세요.**\n",
    "\n",
    "`010 1234 5678`"
   ]
  },
  {
   "cell_type": "code",
   "execution_count": 6,
   "metadata": {},
   "outputs": [],
   "source": [
    "phone_number = \"010-1234-5678\""
   ]
  },
  {
   "cell_type": "code",
   "execution_count": 100,
   "metadata": {},
   "outputs": [
    {
     "data": {
      "text/plain": [
       "'01012345678'"
      ]
     },
     "execution_count": 100,
     "metadata": {},
     "output_type": "execute_result"
    }
   ],
   "source": [
    "phone_number = \"010-1234-5678\"\n",
    "phone_number[:3]+phone_number[4:8]+phone_number[9:]"
   ]
  },
  {
   "cell_type": "markdown",
   "metadata": {},
   "source": [
    "**문제15) 아래 문장의 맨 첫 글자만 대문자로 바꿔서 출력해보세요.**"
   ]
  },
  {
   "cell_type": "code",
   "execution_count": null,
   "metadata": {},
   "outputs": [],
   "source": [
    "sentence2 = 'we wish you a merry Christmas'"
   ]
  },
  {
   "cell_type": "code",
   "execution_count": 101,
   "metadata": {},
   "outputs": [
    {
     "data": {
      "text/plain": [
       "'We wish you a merry Christmas'"
      ]
     },
     "execution_count": 101,
     "metadata": {},
     "output_type": "execute_result"
    }
   ],
   "source": [
    "sentence2 = 'we wish you a merry Christmas'\n",
    "sentence2[0].upper()+sentence2[1:]"
   ]
  }
 ],
 "metadata": {
  "colab": {
   "authorship_tag": "ABX9TyOwUoNrjVic+Ydi7Dz1u7q2",
   "provenance": []
  },
  "kernelspec": {
   "display_name": "Python 3 (ipykernel)",
   "language": "python",
   "name": "python3"
  },
  "language_info": {
   "codemirror_mode": {
    "name": "ipython",
    "version": 3
   },
   "file_extension": ".py",
   "mimetype": "text/x-python",
   "name": "python",
   "nbconvert_exporter": "python",
   "pygments_lexer": "ipython3",
   "version": "3.11.6"
  }
 },
 "nbformat": 4,
 "nbformat_minor": 4
}
