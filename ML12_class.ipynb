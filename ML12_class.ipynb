{
 "cells": [
  {
   "cell_type": "code",
   "execution_count": 1,
   "id": "efc161d1-3891-4258-a56e-5b922594377e",
   "metadata": {},
   "outputs": [],
   "source": [
    "class FourCal():\n",
    "    def __init__(self, first_n, second_n):\n",
    "        self.first_n = first_n\n",
    "        self.second_n = second_n\n",
    "        \n",
    "    def div(self):\n",
    "        return self.first_n / self.second_n\n",
    "\n",
    "    def add(self):\n",
    "        return self.first_n + self.second_n\n",
    "        \n",
    "    def sub(self):\n",
    "        return self.first_n - self.second_n\n",
    "        \n",
    "    def mult(self):\n",
    "        return self.first_n * self.second_n"
   ]
  },
  {
   "cell_type": "code",
   "execution_count": 4,
   "id": "cf7f0bf5-c47e-47d3-8533-6c83725a0e73",
   "metadata": {},
   "outputs": [],
   "source": [
    "class AdvFourCal(FourCal):\n",
    "    def __init__(self, first_n, second_n):\n",
    "        FourCal.__init__(self, first_n, second_n)\n",
    "    def divquo(self):\n",
    "        if self.second_n == 0:\n",
    "            return 'Cannot divide by 0.'\n",
    "        else:\n",
    "            return self.first_n // self.second_n\n",
    "    def div(self):\n",
    "        if self.second_n == 0:\n",
    "            return 'Cannot divide by 0.'\n",
    "        else:\n",
    "            return self.first_n / self.second_n"
   ]
  },
  {
   "cell_type": "code",
   "execution_count": 5,
   "id": "43127e6f-f6d7-4f0e-b3a5-90791239e8eb",
   "metadata": {},
   "outputs": [],
   "source": [
    "cal = AdvFourCal(2, 4)"
   ]
  },
  {
   "cell_type": "code",
   "execution_count": 6,
   "id": "418c48c5-342f-4558-b44e-281a4ae44e20",
   "metadata": {},
   "outputs": [
    {
     "data": {
      "text/plain": [
       "0.5"
      ]
     },
     "execution_count": 6,
     "metadata": {},
     "output_type": "execute_result"
    }
   ],
   "source": [
    "cal.div()"
   ]
  },
  {
   "cell_type": "code",
   "execution_count": 7,
   "id": "28f8a3dd-3221-4032-8870-be1c50df3668",
   "metadata": {},
   "outputs": [
    {
     "data": {
      "text/plain": [
       "0"
      ]
     },
     "execution_count": 7,
     "metadata": {},
     "output_type": "execute_result"
    }
   ],
   "source": [
    "cal.divquo()"
   ]
  },
  {
   "cell_type": "code",
   "execution_count": 8,
   "id": "64de6186-0aea-41d0-8123-5b1cb6cfa1e2",
   "metadata": {},
   "outputs": [],
   "source": [
    "cal = AdvFourCal(3, 0)"
   ]
  },
  {
   "cell_type": "code",
   "execution_count": 9,
   "id": "ae4438f8-f342-4ada-a000-cb9e8098eacb",
   "metadata": {},
   "outputs": [
    {
     "data": {
      "text/plain": [
       "'Cannot divide by 0.'"
      ]
     },
     "execution_count": 9,
     "metadata": {},
     "output_type": "execute_result"
    }
   ],
   "source": [
    "cal.div()"
   ]
  },
  {
   "cell_type": "code",
   "execution_count": null,
   "id": "8a3f7986-2668-449f-8f8b-cfcadfd82014",
   "metadata": {},
   "outputs": [],
   "source": []
  }
 ],
 "metadata": {
  "kernelspec": {
   "display_name": "Python 3 (ipykernel)",
   "language": "python",
   "name": "python3"
  },
  "language_info": {
   "codemirror_mode": {
    "name": "ipython",
    "version": 3
   },
   "file_extension": ".py",
   "mimetype": "text/x-python",
   "name": "python",
   "nbconvert_exporter": "python",
   "pygments_lexer": "ipython3",
   "version": "3.11.6"
  }
 },
 "nbformat": 4,
 "nbformat_minor": 5
}
