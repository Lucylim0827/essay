{
 "cells": [
  {
   "cell_type": "code",
   "execution_count": 1,
   "id": "06f30668-cce9-4fe6-a48a-4d57b7e0ba7d",
   "metadata": {},
   "outputs": [],
   "source": [
    "import tensorflow as tf\n",
    "import numpy as np\n",
    "from tensorflow.keras.models import Sequential\n",
    "from tensorflow.keras.layers import Embedding, SimpleRNN, Dense\n",
    "from tensorflow.keras.preprocessing.text import Tokenizer\n",
    "from tensorflow.keras.preprocessing.sequence import pad_sequences"
   ]
  },
  {
   "cell_type": "code",
   "execution_count": 2,
   "id": "ab03bac8-67c4-4a09-89a5-47b5ba4a5529",
   "metadata": {},
   "outputs": [],
   "source": [
    "import pandas as pd\n",
    "df = pd.read_csv('서울시 대기질 자료 제공_2020-2021.csv', encoding='cp949')"
   ]
  },
  {
   "cell_type": "code",
   "execution_count": 3,
   "id": "427e24dd-eaaf-4676-b92a-42d9e6b067c6",
   "metadata": {},
   "outputs": [
    {
     "data": {
      "text/html": [
       "<div>\n",
       "<style scoped>\n",
       "    .dataframe tbody tr th:only-of-type {\n",
       "        vertical-align: middle;\n",
       "    }\n",
       "\n",
       "    .dataframe tbody tr th {\n",
       "        vertical-align: top;\n",
       "    }\n",
       "\n",
       "    .dataframe thead th {\n",
       "        text-align: right;\n",
       "    }\n",
       "</style>\n",
       "<table border=\"1\" class=\"dataframe\">\n",
       "  <thead>\n",
       "    <tr style=\"text-align: right;\">\n",
       "      <th></th>\n",
       "      <th>일시</th>\n",
       "      <th>구분</th>\n",
       "      <th>미세먼지(PM10)</th>\n",
       "      <th>초미세먼지(PM25)</th>\n",
       "    </tr>\n",
       "  </thead>\n",
       "  <tbody>\n",
       "    <tr>\n",
       "      <th>0</th>\n",
       "      <td>2021-12-31 23:00</td>\n",
       "      <td>평균</td>\n",
       "      <td>21.0</td>\n",
       "      <td>9.0</td>\n",
       "    </tr>\n",
       "    <tr>\n",
       "      <th>1</th>\n",
       "      <td>2021-12-31 23:00</td>\n",
       "      <td>강남구</td>\n",
       "      <td>21.0</td>\n",
       "      <td>9.0</td>\n",
       "    </tr>\n",
       "    <tr>\n",
       "      <th>2</th>\n",
       "      <td>2021-12-31 23:00</td>\n",
       "      <td>강동구</td>\n",
       "      <td>25.0</td>\n",
       "      <td>7.0</td>\n",
       "    </tr>\n",
       "    <tr>\n",
       "      <th>3</th>\n",
       "      <td>2021-12-31 23:00</td>\n",
       "      <td>강북구</td>\n",
       "      <td>23.0</td>\n",
       "      <td>12.0</td>\n",
       "    </tr>\n",
       "    <tr>\n",
       "      <th>4</th>\n",
       "      <td>2021-12-31 23:00</td>\n",
       "      <td>강서구</td>\n",
       "      <td>28.0</td>\n",
       "      <td>9.0</td>\n",
       "    </tr>\n",
       "    <tr>\n",
       "      <th>...</th>\n",
       "      <td>...</td>\n",
       "      <td>...</td>\n",
       "      <td>...</td>\n",
       "      <td>...</td>\n",
       "    </tr>\n",
       "    <tr>\n",
       "      <th>456137</th>\n",
       "      <td>2020-01-01 0:00</td>\n",
       "      <td>용산구</td>\n",
       "      <td>12.0</td>\n",
       "      <td>13.0</td>\n",
       "    </tr>\n",
       "    <tr>\n",
       "      <th>456138</th>\n",
       "      <td>2020-01-01 0:00</td>\n",
       "      <td>은평구</td>\n",
       "      <td>18.0</td>\n",
       "      <td>12.0</td>\n",
       "    </tr>\n",
       "    <tr>\n",
       "      <th>456139</th>\n",
       "      <td>2020-01-01 0:00</td>\n",
       "      <td>종로구</td>\n",
       "      <td>20.0</td>\n",
       "      <td>15.0</td>\n",
       "    </tr>\n",
       "    <tr>\n",
       "      <th>456140</th>\n",
       "      <td>2020-01-01 0:00</td>\n",
       "      <td>중구</td>\n",
       "      <td>22.0</td>\n",
       "      <td>18.0</td>\n",
       "    </tr>\n",
       "    <tr>\n",
       "      <th>456141</th>\n",
       "      <td>2020-01-01 0:00</td>\n",
       "      <td>중랑구</td>\n",
       "      <td>22.0</td>\n",
       "      <td>10.0</td>\n",
       "    </tr>\n",
       "  </tbody>\n",
       "</table>\n",
       "<p>456142 rows × 4 columns</p>\n",
       "</div>"
      ],
      "text/plain": [
       "                      일시   구분  미세먼지(PM10)  초미세먼지(PM25)\n",
       "0       2021-12-31 23:00   평균        21.0          9.0\n",
       "1       2021-12-31 23:00  강남구        21.0          9.0\n",
       "2       2021-12-31 23:00  강동구        25.0          7.0\n",
       "3       2021-12-31 23:00  강북구        23.0         12.0\n",
       "4       2021-12-31 23:00  강서구        28.0          9.0\n",
       "...                  ...  ...         ...          ...\n",
       "456137   2020-01-01 0:00  용산구        12.0         13.0\n",
       "456138   2020-01-01 0:00  은평구        18.0         12.0\n",
       "456139   2020-01-01 0:00  종로구        20.0         15.0\n",
       "456140   2020-01-01 0:00   중구        22.0         18.0\n",
       "456141   2020-01-01 0:00  중랑구        22.0         10.0\n",
       "\n",
       "[456142 rows x 4 columns]"
      ]
     },
     "execution_count": 3,
     "metadata": {},
     "output_type": "execute_result"
    }
   ],
   "source": [
    "df"
   ]
  },
  {
   "cell_type": "code",
   "execution_count": 4,
   "id": "ec16101e-0a66-4811-8fe9-b1adcacf206c",
   "metadata": {},
   "outputs": [],
   "source": [
    "import matplotlib.pyplot as plt"
   ]
  },
  {
   "cell_type": "code",
   "execution_count": 5,
   "id": "79b75d7b-55a0-4c2a-99d6-c4616516135d",
   "metadata": {},
   "outputs": [
    {
     "data": {
      "text/plain": [
       "9.278603402063466"
      ]
     },
     "execution_count": 5,
     "metadata": {},
     "output_type": "execute_result"
    }
   ],
   "source": [
    "df['미세먼지(PM10)'].skew()"
   ]
  },
  {
   "cell_type": "code",
   "execution_count": 6,
   "id": "ac1cccee-0c3b-4f83-9c8f-e718bfa0dad8",
   "metadata": {},
   "outputs": [],
   "source": [
    "from sklearn.preprocessing import StandardScaler"
   ]
  },
  {
   "cell_type": "code",
   "execution_count": 7,
   "id": "5e17f81c-5b46-4dd5-b0ad-1b398429971b",
   "metadata": {},
   "outputs": [],
   "source": [
    "df.drop(['초미세먼지(PM25)'], axis=1, inplace=True)"
   ]
  },
  {
   "cell_type": "code",
   "execution_count": 8,
   "id": "6dd1f7ab-ad16-4c4f-83b2-4f6d7e509347",
   "metadata": {},
   "outputs": [],
   "source": [
    "scaler = StandardScaler()\n",
    "finedust_array = np.array(df['미세먼지(PM10)']).reshape(-1, 1)\n",
    "df['미세먼지(PM10)'] = pd.Series(scaler.fit_transform(finedust_array).flatten())"
   ]
  },
  {
   "cell_type": "code",
   "execution_count": 9,
   "id": "5b613d1b-5b76-4330-a394-8b6b3f1fa192",
   "metadata": {},
   "outputs": [
    {
     "data": {
      "text/html": [
       "<div>\n",
       "<style scoped>\n",
       "    .dataframe tbody tr th:only-of-type {\n",
       "        vertical-align: middle;\n",
       "    }\n",
       "\n",
       "    .dataframe tbody tr th {\n",
       "        vertical-align: top;\n",
       "    }\n",
       "\n",
       "    .dataframe thead th {\n",
       "        text-align: right;\n",
       "    }\n",
       "</style>\n",
       "<table border=\"1\" class=\"dataframe\">\n",
       "  <thead>\n",
       "    <tr style=\"text-align: right;\">\n",
       "      <th></th>\n",
       "      <th>일시</th>\n",
       "      <th>구분</th>\n",
       "      <th>미세먼지(PM10)</th>\n",
       "    </tr>\n",
       "  </thead>\n",
       "  <tbody>\n",
       "    <tr>\n",
       "      <th>0</th>\n",
       "      <td>2021-12-31 23:00</td>\n",
       "      <td>평균</td>\n",
       "      <td>-0.442790</td>\n",
       "    </tr>\n",
       "    <tr>\n",
       "      <th>1</th>\n",
       "      <td>2021-12-31 23:00</td>\n",
       "      <td>강남구</td>\n",
       "      <td>-0.442790</td>\n",
       "    </tr>\n",
       "    <tr>\n",
       "      <th>2</th>\n",
       "      <td>2021-12-31 23:00</td>\n",
       "      <td>강동구</td>\n",
       "      <td>-0.330444</td>\n",
       "    </tr>\n",
       "    <tr>\n",
       "      <th>3</th>\n",
       "      <td>2021-12-31 23:00</td>\n",
       "      <td>강북구</td>\n",
       "      <td>-0.386617</td>\n",
       "    </tr>\n",
       "    <tr>\n",
       "      <th>4</th>\n",
       "      <td>2021-12-31 23:00</td>\n",
       "      <td>강서구</td>\n",
       "      <td>-0.246185</td>\n",
       "    </tr>\n",
       "    <tr>\n",
       "      <th>...</th>\n",
       "      <td>...</td>\n",
       "      <td>...</td>\n",
       "      <td>...</td>\n",
       "    </tr>\n",
       "    <tr>\n",
       "      <th>456137</th>\n",
       "      <td>2020-01-01 0:00</td>\n",
       "      <td>용산구</td>\n",
       "      <td>-0.695568</td>\n",
       "    </tr>\n",
       "    <tr>\n",
       "      <th>456138</th>\n",
       "      <td>2020-01-01 0:00</td>\n",
       "      <td>은평구</td>\n",
       "      <td>-0.527050</td>\n",
       "    </tr>\n",
       "    <tr>\n",
       "      <th>456139</th>\n",
       "      <td>2020-01-01 0:00</td>\n",
       "      <td>종로구</td>\n",
       "      <td>-0.470877</td>\n",
       "    </tr>\n",
       "    <tr>\n",
       "      <th>456140</th>\n",
       "      <td>2020-01-01 0:00</td>\n",
       "      <td>중구</td>\n",
       "      <td>-0.414704</td>\n",
       "    </tr>\n",
       "    <tr>\n",
       "      <th>456141</th>\n",
       "      <td>2020-01-01 0:00</td>\n",
       "      <td>중랑구</td>\n",
       "      <td>-0.414704</td>\n",
       "    </tr>\n",
       "  </tbody>\n",
       "</table>\n",
       "<p>456142 rows × 3 columns</p>\n",
       "</div>"
      ],
      "text/plain": [
       "                      일시   구분  미세먼지(PM10)\n",
       "0       2021-12-31 23:00   평균   -0.442790\n",
       "1       2021-12-31 23:00  강남구   -0.442790\n",
       "2       2021-12-31 23:00  강동구   -0.330444\n",
       "3       2021-12-31 23:00  강북구   -0.386617\n",
       "4       2021-12-31 23:00  강서구   -0.246185\n",
       "...                  ...  ...         ...\n",
       "456137   2020-01-01 0:00  용산구   -0.695568\n",
       "456138   2020-01-01 0:00  은평구   -0.527050\n",
       "456139   2020-01-01 0:00  종로구   -0.470877\n",
       "456140   2020-01-01 0:00   중구   -0.414704\n",
       "456141   2020-01-01 0:00  중랑구   -0.414704\n",
       "\n",
       "[456142 rows x 3 columns]"
      ]
     },
     "execution_count": 9,
     "metadata": {},
     "output_type": "execute_result"
    }
   ],
   "source": [
    "df"
   ]
  },
  {
   "cell_type": "code",
   "execution_count": 10,
   "id": "06942f38-9ab4-4640-b9b2-3ceaeed266e3",
   "metadata": {},
   "outputs": [],
   "source": [
    "df = df.loc[df['구분'] == '평균']"
   ]
  },
  {
   "cell_type": "code",
   "execution_count": 11,
   "id": "7b5f4d81-7bad-42e2-99db-a6d0fad0541f",
   "metadata": {},
   "outputs": [
    {
     "data": {
      "text/html": [
       "<div>\n",
       "<style scoped>\n",
       "    .dataframe tbody tr th:only-of-type {\n",
       "        vertical-align: middle;\n",
       "    }\n",
       "\n",
       "    .dataframe tbody tr th {\n",
       "        vertical-align: top;\n",
       "    }\n",
       "\n",
       "    .dataframe thead th {\n",
       "        text-align: right;\n",
       "    }\n",
       "</style>\n",
       "<table border=\"1\" class=\"dataframe\">\n",
       "  <thead>\n",
       "    <tr style=\"text-align: right;\">\n",
       "      <th></th>\n",
       "      <th>일시</th>\n",
       "      <th>구분</th>\n",
       "      <th>미세먼지(PM10)</th>\n",
       "    </tr>\n",
       "  </thead>\n",
       "  <tbody>\n",
       "    <tr>\n",
       "      <th>0</th>\n",
       "      <td>2021-12-31 23:00</td>\n",
       "      <td>평균</td>\n",
       "      <td>-0.442790</td>\n",
       "    </tr>\n",
       "    <tr>\n",
       "      <th>26</th>\n",
       "      <td>2021-12-31 22:00</td>\n",
       "      <td>평균</td>\n",
       "      <td>-0.470877</td>\n",
       "    </tr>\n",
       "    <tr>\n",
       "      <th>52</th>\n",
       "      <td>2021-12-31 21:00</td>\n",
       "      <td>평균</td>\n",
       "      <td>-0.386617</td>\n",
       "    </tr>\n",
       "    <tr>\n",
       "      <th>78</th>\n",
       "      <td>2021-12-31 20:00</td>\n",
       "      <td>평균</td>\n",
       "      <td>-0.386617</td>\n",
       "    </tr>\n",
       "    <tr>\n",
       "      <th>104</th>\n",
       "      <td>2021-12-31 19:00</td>\n",
       "      <td>평균</td>\n",
       "      <td>-0.414704</td>\n",
       "    </tr>\n",
       "    <tr>\n",
       "      <th>...</th>\n",
       "      <td>...</td>\n",
       "      <td>...</td>\n",
       "      <td>...</td>\n",
       "    </tr>\n",
       "    <tr>\n",
       "      <th>456012</th>\n",
       "      <td>2020-01-01 4:00</td>\n",
       "      <td>평균</td>\n",
       "      <td>-0.386617</td>\n",
       "    </tr>\n",
       "    <tr>\n",
       "      <th>456038</th>\n",
       "      <td>2020-01-01 3:00</td>\n",
       "      <td>평균</td>\n",
       "      <td>-0.330444</td>\n",
       "    </tr>\n",
       "    <tr>\n",
       "      <th>456064</th>\n",
       "      <td>2020-01-01 2:00</td>\n",
       "      <td>평균</td>\n",
       "      <td>-0.358531</td>\n",
       "    </tr>\n",
       "    <tr>\n",
       "      <th>456090</th>\n",
       "      <td>2020-01-01 1:00</td>\n",
       "      <td>평균</td>\n",
       "      <td>-0.358531</td>\n",
       "    </tr>\n",
       "    <tr>\n",
       "      <th>456116</th>\n",
       "      <td>2020-01-01 0:00</td>\n",
       "      <td>평균</td>\n",
       "      <td>-0.414704</td>\n",
       "    </tr>\n",
       "  </tbody>\n",
       "</table>\n",
       "<p>17544 rows × 3 columns</p>\n",
       "</div>"
      ],
      "text/plain": [
       "                      일시  구분  미세먼지(PM10)\n",
       "0       2021-12-31 23:00  평균   -0.442790\n",
       "26      2021-12-31 22:00  평균   -0.470877\n",
       "52      2021-12-31 21:00  평균   -0.386617\n",
       "78      2021-12-31 20:00  평균   -0.386617\n",
       "104     2021-12-31 19:00  평균   -0.414704\n",
       "...                  ...  ..         ...\n",
       "456012   2020-01-01 4:00  평균   -0.386617\n",
       "456038   2020-01-01 3:00  평균   -0.330444\n",
       "456064   2020-01-01 2:00  평균   -0.358531\n",
       "456090   2020-01-01 1:00  평균   -0.358531\n",
       "456116   2020-01-01 0:00  평균   -0.414704\n",
       "\n",
       "[17544 rows x 3 columns]"
      ]
     },
     "execution_count": 11,
     "metadata": {},
     "output_type": "execute_result"
    }
   ],
   "source": [
    "df"
   ]
  },
  {
   "cell_type": "code",
   "execution_count": 12,
   "id": "785b808b-2893-4f28-aa29-0dde567efe1a",
   "metadata": {},
   "outputs": [
    {
     "data": {
      "text/html": [
       "<div>\n",
       "<style scoped>\n",
       "    .dataframe tbody tr th:only-of-type {\n",
       "        vertical-align: middle;\n",
       "    }\n",
       "\n",
       "    .dataframe tbody tr th {\n",
       "        vertical-align: top;\n",
       "    }\n",
       "\n",
       "    .dataframe thead th {\n",
       "        text-align: right;\n",
       "    }\n",
       "</style>\n",
       "<table border=\"1\" class=\"dataframe\">\n",
       "  <thead>\n",
       "    <tr style=\"text-align: right;\">\n",
       "      <th></th>\n",
       "      <th>일시</th>\n",
       "      <th>구분</th>\n",
       "      <th>미세먼지(PM10)</th>\n",
       "    </tr>\n",
       "  </thead>\n",
       "  <tbody>\n",
       "    <tr>\n",
       "      <th>0</th>\n",
       "      <td>2021-12-31 23:00</td>\n",
       "      <td>평균</td>\n",
       "      <td>-0.442790</td>\n",
       "    </tr>\n",
       "    <tr>\n",
       "      <th>1</th>\n",
       "      <td>2021-12-31 22:00</td>\n",
       "      <td>평균</td>\n",
       "      <td>-0.470877</td>\n",
       "    </tr>\n",
       "    <tr>\n",
       "      <th>2</th>\n",
       "      <td>2021-12-31 21:00</td>\n",
       "      <td>평균</td>\n",
       "      <td>-0.386617</td>\n",
       "    </tr>\n",
       "    <tr>\n",
       "      <th>3</th>\n",
       "      <td>2021-12-31 20:00</td>\n",
       "      <td>평균</td>\n",
       "      <td>-0.386617</td>\n",
       "    </tr>\n",
       "    <tr>\n",
       "      <th>4</th>\n",
       "      <td>2021-12-31 19:00</td>\n",
       "      <td>평균</td>\n",
       "      <td>-0.414704</td>\n",
       "    </tr>\n",
       "    <tr>\n",
       "      <th>...</th>\n",
       "      <td>...</td>\n",
       "      <td>...</td>\n",
       "      <td>...</td>\n",
       "    </tr>\n",
       "    <tr>\n",
       "      <th>17539</th>\n",
       "      <td>2020-01-01 4:00</td>\n",
       "      <td>평균</td>\n",
       "      <td>-0.386617</td>\n",
       "    </tr>\n",
       "    <tr>\n",
       "      <th>17540</th>\n",
       "      <td>2020-01-01 3:00</td>\n",
       "      <td>평균</td>\n",
       "      <td>-0.330444</td>\n",
       "    </tr>\n",
       "    <tr>\n",
       "      <th>17541</th>\n",
       "      <td>2020-01-01 2:00</td>\n",
       "      <td>평균</td>\n",
       "      <td>-0.358531</td>\n",
       "    </tr>\n",
       "    <tr>\n",
       "      <th>17542</th>\n",
       "      <td>2020-01-01 1:00</td>\n",
       "      <td>평균</td>\n",
       "      <td>-0.358531</td>\n",
       "    </tr>\n",
       "    <tr>\n",
       "      <th>17543</th>\n",
       "      <td>2020-01-01 0:00</td>\n",
       "      <td>평균</td>\n",
       "      <td>-0.414704</td>\n",
       "    </tr>\n",
       "  </tbody>\n",
       "</table>\n",
       "<p>17544 rows × 3 columns</p>\n",
       "</div>"
      ],
      "text/plain": [
       "                     일시  구분  미세먼지(PM10)\n",
       "0      2021-12-31 23:00  평균   -0.442790\n",
       "1      2021-12-31 22:00  평균   -0.470877\n",
       "2      2021-12-31 21:00  평균   -0.386617\n",
       "3      2021-12-31 20:00  평균   -0.386617\n",
       "4      2021-12-31 19:00  평균   -0.414704\n",
       "...                 ...  ..         ...\n",
       "17539   2020-01-01 4:00  평균   -0.386617\n",
       "17540   2020-01-01 3:00  평균   -0.330444\n",
       "17541   2020-01-01 2:00  평균   -0.358531\n",
       "17542   2020-01-01 1:00  평균   -0.358531\n",
       "17543   2020-01-01 0:00  평균   -0.414704\n",
       "\n",
       "[17544 rows x 3 columns]"
      ]
     },
     "execution_count": 12,
     "metadata": {},
     "output_type": "execute_result"
    }
   ],
   "source": [
    "df.reset_index(drop=True)"
   ]
  },
  {
   "cell_type": "code",
   "execution_count": 13,
   "id": "881186c5-e3f0-4df8-b4f7-1a34aeb51cd6",
   "metadata": {},
   "outputs": [],
   "source": [
    "df = df.loc[::-1]"
   ]
  },
  {
   "cell_type": "code",
   "execution_count": 14,
   "id": "9608f85d-afdb-4690-9c03-e4186e724714",
   "metadata": {},
   "outputs": [
    {
     "data": {
      "text/html": [
       "<div>\n",
       "<style scoped>\n",
       "    .dataframe tbody tr th:only-of-type {\n",
       "        vertical-align: middle;\n",
       "    }\n",
       "\n",
       "    .dataframe tbody tr th {\n",
       "        vertical-align: top;\n",
       "    }\n",
       "\n",
       "    .dataframe thead th {\n",
       "        text-align: right;\n",
       "    }\n",
       "</style>\n",
       "<table border=\"1\" class=\"dataframe\">\n",
       "  <thead>\n",
       "    <tr style=\"text-align: right;\">\n",
       "      <th></th>\n",
       "      <th>일시</th>\n",
       "      <th>구분</th>\n",
       "      <th>미세먼지(PM10)</th>\n",
       "    </tr>\n",
       "  </thead>\n",
       "  <tbody>\n",
       "    <tr>\n",
       "      <th>456116</th>\n",
       "      <td>2020-01-01 0:00</td>\n",
       "      <td>평균</td>\n",
       "      <td>-0.414704</td>\n",
       "    </tr>\n",
       "    <tr>\n",
       "      <th>456090</th>\n",
       "      <td>2020-01-01 1:00</td>\n",
       "      <td>평균</td>\n",
       "      <td>-0.358531</td>\n",
       "    </tr>\n",
       "    <tr>\n",
       "      <th>456064</th>\n",
       "      <td>2020-01-01 2:00</td>\n",
       "      <td>평균</td>\n",
       "      <td>-0.358531</td>\n",
       "    </tr>\n",
       "    <tr>\n",
       "      <th>456038</th>\n",
       "      <td>2020-01-01 3:00</td>\n",
       "      <td>평균</td>\n",
       "      <td>-0.330444</td>\n",
       "    </tr>\n",
       "    <tr>\n",
       "      <th>456012</th>\n",
       "      <td>2020-01-01 4:00</td>\n",
       "      <td>평균</td>\n",
       "      <td>-0.386617</td>\n",
       "    </tr>\n",
       "    <tr>\n",
       "      <th>...</th>\n",
       "      <td>...</td>\n",
       "      <td>...</td>\n",
       "      <td>...</td>\n",
       "    </tr>\n",
       "    <tr>\n",
       "      <th>104</th>\n",
       "      <td>2021-12-31 19:00</td>\n",
       "      <td>평균</td>\n",
       "      <td>-0.414704</td>\n",
       "    </tr>\n",
       "    <tr>\n",
       "      <th>78</th>\n",
       "      <td>2021-12-31 20:00</td>\n",
       "      <td>평균</td>\n",
       "      <td>-0.386617</td>\n",
       "    </tr>\n",
       "    <tr>\n",
       "      <th>52</th>\n",
       "      <td>2021-12-31 21:00</td>\n",
       "      <td>평균</td>\n",
       "      <td>-0.386617</td>\n",
       "    </tr>\n",
       "    <tr>\n",
       "      <th>26</th>\n",
       "      <td>2021-12-31 22:00</td>\n",
       "      <td>평균</td>\n",
       "      <td>-0.470877</td>\n",
       "    </tr>\n",
       "    <tr>\n",
       "      <th>0</th>\n",
       "      <td>2021-12-31 23:00</td>\n",
       "      <td>평균</td>\n",
       "      <td>-0.442790</td>\n",
       "    </tr>\n",
       "  </tbody>\n",
       "</table>\n",
       "<p>17544 rows × 3 columns</p>\n",
       "</div>"
      ],
      "text/plain": [
       "                      일시  구분  미세먼지(PM10)\n",
       "456116   2020-01-01 0:00  평균   -0.414704\n",
       "456090   2020-01-01 1:00  평균   -0.358531\n",
       "456064   2020-01-01 2:00  평균   -0.358531\n",
       "456038   2020-01-01 3:00  평균   -0.330444\n",
       "456012   2020-01-01 4:00  평균   -0.386617\n",
       "...                  ...  ..         ...\n",
       "104     2021-12-31 19:00  평균   -0.414704\n",
       "78      2021-12-31 20:00  평균   -0.386617\n",
       "52      2021-12-31 21:00  평균   -0.386617\n",
       "26      2021-12-31 22:00  평균   -0.470877\n",
       "0       2021-12-31 23:00  평균   -0.442790\n",
       "\n",
       "[17544 rows x 3 columns]"
      ]
     },
     "execution_count": 14,
     "metadata": {},
     "output_type": "execute_result"
    }
   ],
   "source": [
    "df"
   ]
  },
  {
   "cell_type": "code",
   "execution_count": 15,
   "id": "d15e01d8-ff26-47c9-80b8-235b11312451",
   "metadata": {},
   "outputs": [],
   "source": [
    "df = df.reset_index(drop=True)"
   ]
  },
  {
   "cell_type": "code",
   "execution_count": 16,
   "id": "95c04ebe-1dce-4b55-ace2-5f9c624b6422",
   "metadata": {},
   "outputs": [
    {
     "data": {
      "text/html": [
       "<div>\n",
       "<style scoped>\n",
       "    .dataframe tbody tr th:only-of-type {\n",
       "        vertical-align: middle;\n",
       "    }\n",
       "\n",
       "    .dataframe tbody tr th {\n",
       "        vertical-align: top;\n",
       "    }\n",
       "\n",
       "    .dataframe thead th {\n",
       "        text-align: right;\n",
       "    }\n",
       "</style>\n",
       "<table border=\"1\" class=\"dataframe\">\n",
       "  <thead>\n",
       "    <tr style=\"text-align: right;\">\n",
       "      <th></th>\n",
       "      <th>일시</th>\n",
       "      <th>구분</th>\n",
       "      <th>미세먼지(PM10)</th>\n",
       "    </tr>\n",
       "  </thead>\n",
       "  <tbody>\n",
       "    <tr>\n",
       "      <th>0</th>\n",
       "      <td>2020-01-01 0:00</td>\n",
       "      <td>평균</td>\n",
       "      <td>-0.414704</td>\n",
       "    </tr>\n",
       "    <tr>\n",
       "      <th>1</th>\n",
       "      <td>2020-01-01 1:00</td>\n",
       "      <td>평균</td>\n",
       "      <td>-0.358531</td>\n",
       "    </tr>\n",
       "    <tr>\n",
       "      <th>2</th>\n",
       "      <td>2020-01-01 2:00</td>\n",
       "      <td>평균</td>\n",
       "      <td>-0.358531</td>\n",
       "    </tr>\n",
       "    <tr>\n",
       "      <th>3</th>\n",
       "      <td>2020-01-01 3:00</td>\n",
       "      <td>평균</td>\n",
       "      <td>-0.330444</td>\n",
       "    </tr>\n",
       "    <tr>\n",
       "      <th>4</th>\n",
       "      <td>2020-01-01 4:00</td>\n",
       "      <td>평균</td>\n",
       "      <td>-0.386617</td>\n",
       "    </tr>\n",
       "    <tr>\n",
       "      <th>...</th>\n",
       "      <td>...</td>\n",
       "      <td>...</td>\n",
       "      <td>...</td>\n",
       "    </tr>\n",
       "    <tr>\n",
       "      <th>17539</th>\n",
       "      <td>2021-12-31 19:00</td>\n",
       "      <td>평균</td>\n",
       "      <td>-0.414704</td>\n",
       "    </tr>\n",
       "    <tr>\n",
       "      <th>17540</th>\n",
       "      <td>2021-12-31 20:00</td>\n",
       "      <td>평균</td>\n",
       "      <td>-0.386617</td>\n",
       "    </tr>\n",
       "    <tr>\n",
       "      <th>17541</th>\n",
       "      <td>2021-12-31 21:00</td>\n",
       "      <td>평균</td>\n",
       "      <td>-0.386617</td>\n",
       "    </tr>\n",
       "    <tr>\n",
       "      <th>17542</th>\n",
       "      <td>2021-12-31 22:00</td>\n",
       "      <td>평균</td>\n",
       "      <td>-0.470877</td>\n",
       "    </tr>\n",
       "    <tr>\n",
       "      <th>17543</th>\n",
       "      <td>2021-12-31 23:00</td>\n",
       "      <td>평균</td>\n",
       "      <td>-0.442790</td>\n",
       "    </tr>\n",
       "  </tbody>\n",
       "</table>\n",
       "<p>17544 rows × 3 columns</p>\n",
       "</div>"
      ],
      "text/plain": [
       "                     일시  구분  미세먼지(PM10)\n",
       "0       2020-01-01 0:00  평균   -0.414704\n",
       "1       2020-01-01 1:00  평균   -0.358531\n",
       "2       2020-01-01 2:00  평균   -0.358531\n",
       "3       2020-01-01 3:00  평균   -0.330444\n",
       "4       2020-01-01 4:00  평균   -0.386617\n",
       "...                 ...  ..         ...\n",
       "17539  2021-12-31 19:00  평균   -0.414704\n",
       "17540  2021-12-31 20:00  평균   -0.386617\n",
       "17541  2021-12-31 21:00  평균   -0.386617\n",
       "17542  2021-12-31 22:00  평균   -0.470877\n",
       "17543  2021-12-31 23:00  평균   -0.442790\n",
       "\n",
       "[17544 rows x 3 columns]"
      ]
     },
     "execution_count": 16,
     "metadata": {},
     "output_type": "execute_result"
    }
   ],
   "source": [
    "df"
   ]
  },
  {
   "cell_type": "code",
   "execution_count": 17,
   "id": "b5272a3a-1705-4245-9e6e-bca2b7f07cb0",
   "metadata": {},
   "outputs": [],
   "source": [
    "data = df['미세먼지(PM10)'].values.astype(float)"
   ]
  },
  {
   "cell_type": "code",
   "execution_count": 18,
   "id": "01fad637-192e-4865-9a2d-762610fd5279",
   "metadata": {},
   "outputs": [],
   "source": [
    "data = data.reshape(-1, 1)"
   ]
  },
  {
   "cell_type": "code",
   "execution_count": 19,
   "id": "9ff1b9ed-23ba-4ca8-90b6-648f1a408528",
   "metadata": {},
   "outputs": [],
   "source": [
    "split = int(len(data)*0.67)\n",
    "train_data = data[:split]\n",
    "test_data = data[split:]"
   ]
  },
  {
   "cell_type": "code",
   "execution_count": 20,
   "id": "517c8cec-7e61-4f5f-bf9d-b05d3a84bbee",
   "metadata": {},
   "outputs": [
    {
     "data": {
      "text/plain": [
       "(11754, 1)"
      ]
     },
     "execution_count": 20,
     "metadata": {},
     "output_type": "execute_result"
    }
   ],
   "source": [
    "train_data.shape"
   ]
  },
  {
   "cell_type": "code",
   "execution_count": 21,
   "id": "829f8681-353f-4538-b767-2b8953a59e49",
   "metadata": {},
   "outputs": [
    {
     "data": {
      "text/plain": [
       "(5790, 1)"
      ]
     },
     "execution_count": 21,
     "metadata": {},
     "output_type": "execute_result"
    }
   ],
   "source": [
    "test_data.shape"
   ]
  },
  {
   "cell_type": "code",
   "execution_count": 22,
   "id": "976ec50b-5f14-4ce1-8b4f-f416a130b7e6",
   "metadata": {},
   "outputs": [],
   "source": [
    "def create_dataset(dataset, look_back=1):\n",
    "    X, Y = [], []\n",
    "    for i in range(len(dataset)-look_back):\n",
    "        a = dataset[i:(i+look_back), 0]\n",
    "        X.append(a)\n",
    "        Y.append(dataset[i+look_back, 0])\n",
    "    return np.array(X), np.array(Y)"
   ]
  },
  {
   "cell_type": "code",
   "execution_count": 23,
   "id": "1c31ffd1-0e52-4321-adee-ab19b76b487b",
   "metadata": {},
   "outputs": [],
   "source": [
    "look_back=1\n",
    "X_train, Y_train = create_dataset(train_data, look_back)\n",
    "X_test, Y_test = create_dataset(test_data, look_back)"
   ]
  },
  {
   "cell_type": "code",
   "execution_count": 24,
   "id": "193b10b2-bed2-47fb-85eb-0f3086d57342",
   "metadata": {},
   "outputs": [],
   "source": [
    "X_train = np.reshape(X_train, (X_train.shape[0], 1, X_train.shape[1]))"
   ]
  },
  {
   "cell_type": "code",
   "execution_count": 25,
   "id": "4932b1f0-fa6e-4370-86eb-1f4210721cd5",
   "metadata": {},
   "outputs": [],
   "source": [
    "X_test = np.reshape(X_test, (X_test.shape[0], 1, X_test.shape[1]))"
   ]
  },
  {
   "cell_type": "code",
   "execution_count": 26,
   "id": "6272c00c-03f1-47bf-8ee3-7fc6ae1317db",
   "metadata": {},
   "outputs": [
    {
     "data": {
      "text/plain": [
       "(11753, 1, 1)"
      ]
     },
     "execution_count": 26,
     "metadata": {},
     "output_type": "execute_result"
    }
   ],
   "source": [
    "X_train.shape"
   ]
  },
  {
   "cell_type": "code",
   "execution_count": 27,
   "id": "33b0dbca-fc78-47af-9305-13fbc7d5a75a",
   "metadata": {},
   "outputs": [
    {
     "name": "stderr",
     "output_type": "stream",
     "text": [
      "C:\\Users\\user\\AppData\\Local\\Programs\\Python\\Python311\\Lib\\site-packages\\keras\\src\\layers\\rnn\\rnn.py:204: UserWarning: Do not pass an `input_shape`/`input_dim` argument to a layer. When using Sequential models, prefer using an `Input(shape)` object as the first layer in the model instead.\n",
      "  super().__init__(**kwargs)\n"
     ]
    }
   ],
   "source": [
    "model = Sequential()\n",
    "model.add(SimpleRNN(4, input_shape=(1, look_back)))\n",
    "model.add(Dense(1))\n",
    "model.compile(optimizer='adam', loss='mean_squared_error')"
   ]
  },
  {
   "cell_type": "code",
   "execution_count": 28,
   "id": "38da441f-401a-4a3c-8b02-26a8c54438db",
   "metadata": {},
   "outputs": [
    {
     "name": "stdout",
     "output_type": "stream",
     "text": [
      "Epoch 1/50\n",
      "\u001b[1m11753/11753\u001b[0m \u001b[32m━━━━━━━━━━━━━━━━━━━━\u001b[0m\u001b[37m\u001b[0m \u001b[1m14s\u001b[0m 1ms/step - loss: 0.1076\n",
      "Epoch 2/50\n",
      "\u001b[1m11753/11753\u001b[0m \u001b[32m━━━━━━━━━━━━━━━━━━━━\u001b[0m\u001b[37m\u001b[0m \u001b[1m14s\u001b[0m 1ms/step - loss: 0.0779\n",
      "Epoch 3/50\n",
      "\u001b[1m11753/11753\u001b[0m \u001b[32m━━━━━━━━━━━━━━━━━━━━\u001b[0m\u001b[37m\u001b[0m \u001b[1m13s\u001b[0m 1ms/step - loss: 0.0468\n",
      "Epoch 4/50\n",
      "\u001b[1m11753/11753\u001b[0m \u001b[32m━━━━━━━━━━━━━━━━━━━━\u001b[0m\u001b[37m\u001b[0m \u001b[1m11s\u001b[0m 946us/step - loss: 0.0552\n",
      "Epoch 5/50\n",
      "\u001b[1m11753/11753\u001b[0m \u001b[32m━━━━━━━━━━━━━━━━━━━━\u001b[0m\u001b[37m\u001b[0m \u001b[1m11s\u001b[0m 932us/step - loss: 0.0413\n",
      "Epoch 6/50\n",
      "\u001b[1m11753/11753\u001b[0m \u001b[32m━━━━━━━━━━━━━━━━━━━━\u001b[0m\u001b[37m\u001b[0m \u001b[1m12s\u001b[0m 1ms/step - loss: 0.0338\n",
      "Epoch 7/50\n",
      "\u001b[1m11753/11753\u001b[0m \u001b[32m━━━━━━━━━━━━━━━━━━━━\u001b[0m\u001b[37m\u001b[0m \u001b[1m14s\u001b[0m 1ms/step - loss: 0.0321\n",
      "Epoch 8/50\n",
      "\u001b[1m11753/11753\u001b[0m \u001b[32m━━━━━━━━━━━━━━━━━━━━\u001b[0m\u001b[37m\u001b[0m \u001b[1m15s\u001b[0m 1ms/step - loss: 0.0311\n",
      "Epoch 9/50\n",
      "\u001b[1m11753/11753\u001b[0m \u001b[32m━━━━━━━━━━━━━━━━━━━━\u001b[0m\u001b[37m\u001b[0m \u001b[1m12s\u001b[0m 1ms/step - loss: 0.0305\n",
      "Epoch 10/50\n",
      "\u001b[1m11753/11753\u001b[0m \u001b[32m━━━━━━━━━━━━━━━━━━━━\u001b[0m\u001b[37m\u001b[0m \u001b[1m11s\u001b[0m 958us/step - loss: 0.0310\n",
      "Epoch 11/50\n",
      "\u001b[1m11753/11753\u001b[0m \u001b[32m━━━━━━━━━━━━━━━━━━━━\u001b[0m\u001b[37m\u001b[0m \u001b[1m11s\u001b[0m 929us/step - loss: 0.0316\n",
      "Epoch 12/50\n",
      "\u001b[1m11753/11753\u001b[0m \u001b[32m━━━━━━━━━━━━━━━━━━━━\u001b[0m\u001b[37m\u001b[0m \u001b[1m11s\u001b[0m 939us/step - loss: 0.0323\n",
      "Epoch 13/50\n",
      "\u001b[1m11753/11753\u001b[0m \u001b[32m━━━━━━━━━━━━━━━━━━━━\u001b[0m\u001b[37m\u001b[0m \u001b[1m11s\u001b[0m 947us/step - loss: 0.0292\n",
      "Epoch 14/50\n",
      "\u001b[1m11753/11753\u001b[0m \u001b[32m━━━━━━━━━━━━━━━━━━━━\u001b[0m\u001b[37m\u001b[0m \u001b[1m11s\u001b[0m 965us/step - loss: 0.0266\n",
      "Epoch 15/50\n",
      "\u001b[1m11753/11753\u001b[0m \u001b[32m━━━━━━━━━━━━━━━━━━━━\u001b[0m\u001b[37m\u001b[0m \u001b[1m14s\u001b[0m 1ms/step - loss: 0.0261\n",
      "Epoch 16/50\n",
      "\u001b[1m11753/11753\u001b[0m \u001b[32m━━━━━━━━━━━━━━━━━━━━\u001b[0m\u001b[37m\u001b[0m \u001b[1m11s\u001b[0m 970us/step - loss: 0.0304\n",
      "Epoch 17/50\n",
      "\u001b[1m11753/11753\u001b[0m \u001b[32m━━━━━━━━━━━━━━━━━━━━\u001b[0m\u001b[37m\u001b[0m \u001b[1m11s\u001b[0m 963us/step - loss: 0.0295\n",
      "Epoch 18/50\n",
      "\u001b[1m11753/11753\u001b[0m \u001b[32m━━━━━━━━━━━━━━━━━━━━\u001b[0m\u001b[37m\u001b[0m \u001b[1m11s\u001b[0m 972us/step - loss: 0.0251\n",
      "Epoch 19/50\n",
      "\u001b[1m11753/11753\u001b[0m \u001b[32m━━━━━━━━━━━━━━━━━━━━\u001b[0m\u001b[37m\u001b[0m \u001b[1m11s\u001b[0m 958us/step - loss: 0.0279\n",
      "Epoch 20/50\n",
      "\u001b[1m11753/11753\u001b[0m \u001b[32m━━━━━━━━━━━━━━━━━━━━\u001b[0m\u001b[37m\u001b[0m \u001b[1m11s\u001b[0m 969us/step - loss: 0.0307\n",
      "Epoch 21/50\n",
      "\u001b[1m11753/11753\u001b[0m \u001b[32m━━━━━━━━━━━━━━━━━━━━\u001b[0m\u001b[37m\u001b[0m \u001b[1m11s\u001b[0m 957us/step - loss: 0.0266\n",
      "Epoch 22/50\n",
      "\u001b[1m11753/11753\u001b[0m \u001b[32m━━━━━━━━━━━━━━━━━━━━\u001b[0m\u001b[37m\u001b[0m \u001b[1m12s\u001b[0m 1ms/step - loss: 0.0294\n",
      "Epoch 23/50\n",
      "\u001b[1m11753/11753\u001b[0m \u001b[32m━━━━━━━━━━━━━━━━━━━━\u001b[0m\u001b[37m\u001b[0m \u001b[1m12s\u001b[0m 1ms/step - loss: 0.0241\n",
      "Epoch 24/50\n",
      "\u001b[1m11753/11753\u001b[0m \u001b[32m━━━━━━━━━━━━━━━━━━━━\u001b[0m\u001b[37m\u001b[0m \u001b[1m12s\u001b[0m 1ms/step - loss: 0.0326\n",
      "Epoch 25/50\n",
      "\u001b[1m11753/11753\u001b[0m \u001b[32m━━━━━━━━━━━━━━━━━━━━\u001b[0m\u001b[37m\u001b[0m \u001b[1m12s\u001b[0m 1ms/step - loss: 0.0241\n",
      "Epoch 26/50\n",
      "\u001b[1m11753/11753\u001b[0m \u001b[32m━━━━━━━━━━━━━━━━━━━━\u001b[0m\u001b[37m\u001b[0m \u001b[1m11s\u001b[0m 973us/step - loss: 0.0249\n",
      "Epoch 27/50\n",
      "\u001b[1m11753/11753\u001b[0m \u001b[32m━━━━━━━━━━━━━━━━━━━━\u001b[0m\u001b[37m\u001b[0m \u001b[1m12s\u001b[0m 1ms/step - loss: 0.0293\n",
      "Epoch 28/50\n",
      "\u001b[1m11753/11753\u001b[0m \u001b[32m━━━━━━━━━━━━━━━━━━━━\u001b[0m\u001b[37m\u001b[0m \u001b[1m13s\u001b[0m 1ms/step - loss: 0.0355\n",
      "Epoch 29/50\n",
      "\u001b[1m11753/11753\u001b[0m \u001b[32m━━━━━━━━━━━━━━━━━━━━\u001b[0m\u001b[37m\u001b[0m \u001b[1m12s\u001b[0m 1ms/step - loss: 0.0289\n",
      "Epoch 30/50\n",
      "\u001b[1m11753/11753\u001b[0m \u001b[32m━━━━━━━━━━━━━━━━━━━━\u001b[0m\u001b[37m\u001b[0m \u001b[1m12s\u001b[0m 977us/step - loss: 0.0320\n",
      "Epoch 31/50\n",
      "\u001b[1m11753/11753\u001b[0m \u001b[32m━━━━━━━━━━━━━━━━━━━━\u001b[0m\u001b[37m\u001b[0m \u001b[1m13s\u001b[0m 1ms/step - loss: 0.0297\n",
      "Epoch 32/50\n",
      "\u001b[1m11753/11753\u001b[0m \u001b[32m━━━━━━━━━━━━━━━━━━━━\u001b[0m\u001b[37m\u001b[0m \u001b[1m12s\u001b[0m 1ms/step - loss: 0.0281\n",
      "Epoch 33/50\n",
      "\u001b[1m11753/11753\u001b[0m \u001b[32m━━━━━━━━━━━━━━━━━━━━\u001b[0m\u001b[37m\u001b[0m \u001b[1m12s\u001b[0m 1ms/step - loss: 0.0285\n",
      "Epoch 34/50\n",
      "\u001b[1m11753/11753\u001b[0m \u001b[32m━━━━━━━━━━━━━━━━━━━━\u001b[0m\u001b[37m\u001b[0m \u001b[1m12s\u001b[0m 1ms/step - loss: 0.0302\n",
      "Epoch 35/50\n",
      "\u001b[1m11753/11753\u001b[0m \u001b[32m━━━━━━━━━━━━━━━━━━━━\u001b[0m\u001b[37m\u001b[0m \u001b[1m12s\u001b[0m 1ms/step - loss: 0.0298\n",
      "Epoch 36/50\n",
      "\u001b[1m11753/11753\u001b[0m \u001b[32m━━━━━━━━━━━━━━━━━━━━\u001b[0m\u001b[37m\u001b[0m \u001b[1m12s\u001b[0m 1ms/step - loss: 0.0305\n",
      "Epoch 37/50\n",
      "\u001b[1m11753/11753\u001b[0m \u001b[32m━━━━━━━━━━━━━━━━━━━━\u001b[0m\u001b[37m\u001b[0m \u001b[1m11s\u001b[0m 956us/step - loss: 0.0253\n",
      "Epoch 38/50\n",
      "\u001b[1m11753/11753\u001b[0m \u001b[32m━━━━━━━━━━━━━━━━━━━━\u001b[0m\u001b[37m\u001b[0m \u001b[1m12s\u001b[0m 990us/step - loss: 0.0253\n",
      "Epoch 39/50\n",
      "\u001b[1m11753/11753\u001b[0m \u001b[32m━━━━━━━━━━━━━━━━━━━━\u001b[0m\u001b[37m\u001b[0m \u001b[1m11s\u001b[0m 966us/step - loss: 0.0304\n",
      "Epoch 40/50\n",
      "\u001b[1m11753/11753\u001b[0m \u001b[32m━━━━━━━━━━━━━━━━━━━━\u001b[0m\u001b[37m\u001b[0m \u001b[1m12s\u001b[0m 1ms/step - loss: 0.0315\n",
      "Epoch 41/50\n",
      "\u001b[1m11753/11753\u001b[0m \u001b[32m━━━━━━━━━━━━━━━━━━━━\u001b[0m\u001b[37m\u001b[0m \u001b[1m13s\u001b[0m 1ms/step - loss: 0.0246\n",
      "Epoch 42/50\n",
      "\u001b[1m11753/11753\u001b[0m \u001b[32m━━━━━━━━━━━━━━━━━━━━\u001b[0m\u001b[37m\u001b[0m \u001b[1m16s\u001b[0m 1ms/step - loss: 0.0307\n",
      "Epoch 43/50\n",
      "\u001b[1m11753/11753\u001b[0m \u001b[32m━━━━━━━━━━━━━━━━━━━━\u001b[0m\u001b[37m\u001b[0m \u001b[1m17s\u001b[0m 1ms/step - loss: 0.0265\n",
      "Epoch 44/50\n",
      "\u001b[1m11753/11753\u001b[0m \u001b[32m━━━━━━━━━━━━━━━━━━━━\u001b[0m\u001b[37m\u001b[0m \u001b[1m15s\u001b[0m 1ms/step - loss: 0.0259\n",
      "Epoch 45/50\n",
      "\u001b[1m11753/11753\u001b[0m \u001b[32m━━━━━━━━━━━━━━━━━━━━\u001b[0m\u001b[37m\u001b[0m \u001b[1m15s\u001b[0m 1ms/step - loss: 0.0306\n",
      "Epoch 46/50\n",
      "\u001b[1m11753/11753\u001b[0m \u001b[32m━━━━━━━━━━━━━━━━━━━━\u001b[0m\u001b[37m\u001b[0m \u001b[1m18s\u001b[0m 2ms/step - loss: 0.0256\n",
      "Epoch 47/50\n",
      "\u001b[1m11753/11753\u001b[0m \u001b[32m━━━━━━━━━━━━━━━━━━━━\u001b[0m\u001b[37m\u001b[0m \u001b[1m17s\u001b[0m 1ms/step - loss: 0.0246\n",
      "Epoch 48/50\n",
      "\u001b[1m11753/11753\u001b[0m \u001b[32m━━━━━━━━━━━━━━━━━━━━\u001b[0m\u001b[37m\u001b[0m \u001b[1m14s\u001b[0m 1ms/step - loss: 0.0211\n",
      "Epoch 49/50\n",
      "\u001b[1m11753/11753\u001b[0m \u001b[32m━━━━━━━━━━━━━━━━━━━━\u001b[0m\u001b[37m\u001b[0m \u001b[1m14s\u001b[0m 1ms/step - loss: 0.0307\n",
      "Epoch 50/50\n",
      "\u001b[1m11753/11753\u001b[0m \u001b[32m━━━━━━━━━━━━━━━━━━━━\u001b[0m\u001b[37m\u001b[0m \u001b[1m16s\u001b[0m 1ms/step - loss: 0.0257\n"
     ]
    },
    {
     "data": {
      "text/plain": [
       "<keras.src.callbacks.history.History at 0x1b95046f910>"
      ]
     },
     "execution_count": 28,
     "metadata": {},
     "output_type": "execute_result"
    }
   ],
   "source": [
    "model.fit(X_train, Y_train, epochs=50, batch_size=1, verbose=1)"
   ]
  },
  {
   "cell_type": "code",
   "execution_count": 29,
   "id": "58b28664-50f7-4914-ab1c-728cf5a0f0d0",
   "metadata": {},
   "outputs": [
    {
     "name": "stdout",
     "output_type": "stream",
     "text": [
      "\u001b[1m368/368\u001b[0m \u001b[32m━━━━━━━━━━━━━━━━━━━━\u001b[0m\u001b[37m\u001b[0m \u001b[1m1s\u001b[0m 2ms/step\n",
      "\u001b[1m181/181\u001b[0m \u001b[32m━━━━━━━━━━━━━━━━━━━━\u001b[0m\u001b[37m\u001b[0m \u001b[1m0s\u001b[0m 946us/step\n"
     ]
    }
   ],
   "source": [
    "train_predict = model.predict(X_train)\n",
    "test_predict = model.predict(X_test)"
   ]
  },
  {
   "cell_type": "code",
   "execution_count": 30,
   "id": "7067bab2-2948-409a-bb98-495c67705e4e",
   "metadata": {},
   "outputs": [
    {
     "data": {
      "text/plain": [
       "array([[ 0.10820103],\n",
       "       [ 0.10820103],\n",
       "       [ 0.16450405],\n",
       "       ...,\n",
       "       [-0.37413263],\n",
       "       [-0.37413263],\n",
       "       [-0.4599719 ]], dtype=float32)"
      ]
     },
     "execution_count": 30,
     "metadata": {},
     "output_type": "execute_result"
    }
   ],
   "source": [
    "test_predict"
   ]
  },
  {
   "cell_type": "code",
   "execution_count": 31,
   "id": "f1449d69-0b2e-4fdb-bc52-0bb714a4a757",
   "metadata": {},
   "outputs": [
    {
     "data": {
      "text/plain": [
       "(11753,)"
      ]
     },
     "execution_count": 31,
     "metadata": {},
     "output_type": "execute_result"
    }
   ],
   "source": [
    "Y_train.shape"
   ]
  },
  {
   "cell_type": "code",
   "execution_count": 32,
   "id": "f0d916c2-15d5-4d90-bd64-81fc46836a4b",
   "metadata": {},
   "outputs": [
    {
     "data": {
      "text/plain": [
       "array([-0.3585307 , -0.3585307 , -0.33044423, ...,  0.09085287,\n",
       "        0.09085287,  0.20319876])"
      ]
     },
     "execution_count": 32,
     "metadata": {},
     "output_type": "execute_result"
    }
   ],
   "source": [
    "Y_train"
   ]
  },
  {
   "cell_type": "code",
   "execution_count": 33,
   "id": "dddfa080-e509-471d-a0fe-d1186bc18d31",
   "metadata": {},
   "outputs": [
    {
     "data": {
      "text/plain": [
       "(11753,)"
      ]
     },
     "execution_count": 33,
     "metadata": {},
     "output_type": "execute_result"
    }
   ],
   "source": [
    "Y_train.shape"
   ]
  },
  {
   "cell_type": "code",
   "execution_count": 34,
   "id": "1531dd2f-172f-4684-b0f7-4730f80deb22",
   "metadata": {},
   "outputs": [
    {
     "data": {
      "text/plain": [
       "array([-0.3585307 , -0.3585307 , -0.33044423, ...,  0.09085287,\n",
       "        0.09085287,  0.20319876])"
      ]
     },
     "execution_count": 34,
     "metadata": {},
     "output_type": "execute_result"
    }
   ],
   "source": [
    "Y_train"
   ]
  },
  {
   "cell_type": "code",
   "execution_count": 35,
   "id": "d9c1079a-0aec-40f8-939f-8e27ee2cd72a",
   "metadata": {},
   "outputs": [
    {
     "data": {
      "text/plain": [
       "(5789,)"
      ]
     },
     "execution_count": 35,
     "metadata": {},
     "output_type": "execute_result"
    }
   ],
   "source": [
    "Y_test.shape"
   ]
  },
  {
   "cell_type": "code",
   "execution_count": 36,
   "id": "08102cef-58aa-47cb-890d-9198fb1bbd5a",
   "metadata": {},
   "outputs": [],
   "source": [
    "train_predict = scaler.inverse_transform(train_predict)\n",
    "Y_train = scaler.inverse_transform([Y_train])\n",
    "test_predict = scaler.inverse_transform(test_predict)\n",
    "Y_test = scaler.inverse_transform([Y_test])"
   ]
  },
  {
   "cell_type": "code",
   "execution_count": 37,
   "id": "0a713c69-c00c-4f75-8ed3-a6617caa1ac2",
   "metadata": {},
   "outputs": [
    {
     "data": {
      "text/plain": [
       "array([[24., 24., 25., ..., 40., 40., 44.]])"
      ]
     },
     "execution_count": 37,
     "metadata": {},
     "output_type": "execute_result"
    }
   ],
   "source": [
    "Y_train"
   ]
  },
  {
   "cell_type": "code",
   "execution_count": 38,
   "id": "7282ac2c-15b9-4246-8748-7590fe6aed60",
   "metadata": {},
   "outputs": [],
   "source": [
    "train_score = np.sqrt(np.mean(np.square(Y_train[0]-train_predict[:, 0])))\n",
    "test_score = np.sqrt(np.mean(np.square(Y_test[0]-test_predict[:, 0])))"
   ]
  },
  {
   "cell_type": "code",
   "execution_count": 39,
   "id": "321905f5-dede-43f3-8968-604e8b1b580c",
   "metadata": {},
   "outputs": [
    {
     "name": "stdout",
     "output_type": "stream",
     "text": [
      "Train score: 5.656923492190671 RMSE\n",
      "Test score: 14.020277482818713 RMSE\n"
     ]
    }
   ],
   "source": [
    "print(f'Train score: {train_score} RMSE')\n",
    "print(f'Test score: {test_score} RMSE')"
   ]
  },
  {
   "cell_type": "code",
   "execution_count": 41,
   "id": "805d8d01-99e6-45d2-8c47-ca684203d216",
   "metadata": {},
   "outputs": [
    {
     "data": {
      "image/png": "[encoded data removed]",
      "text/plain": [
       "<Figure size 1000x600 with 1 Axes>"
      ]
     },
     "metadata": {},
     "output_type": "display_data"
    }
   ],
   "source": [
    "plt.figure(figsize=(10, 6))\n",
    "plt.plot(scaler.inverse_transform(data), label='original data')\n",
    "plt.plot(np.concatenate([train_predict, test_predict]), label='predicted data')\n",
    "plt.legend()\n",
    "plt.show()"
   ]
  },
  {
   "cell_type": "code",
   "execution_count": null,
   "id": "21b8a071-ab32-4215-a743-37cf4953a867",
   "metadata": {},
   "outputs": [],
   "source": []
  }
 ],
 "metadata": {
  "kernelspec": {
   "display_name": "Python 3 (ipykernel)",
   "language": "python",
   "name": "python3"
  },
  "language_info": {
   "codemirror_mode": {
    "name": "ipython",
    "version": 3
   },
   "file_extension": ".py",
   "mimetype": "text/x-python",
   "name": "python",
   "nbconvert_exporter": "python",
   "pygments_lexer": "ipython3",
   "version": "3.11.6"
  }
 },
 "nbformat": 4,
 "nbformat_minor": 5
}
