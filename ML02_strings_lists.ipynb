{
 "cells": [
  {
   "cell_type": "markdown",
   "metadata": {
    "id": "pqHu87CyL1zr"
   },
   "source": [
    "**문제1) 다음 문제에 답하여라.**   \n",
    "\n",
    "`colors = 'red blue yellow'`  \n",
    "\n",
    "1) `colors`에서 `b`를 추출하는 코드를 작성하라."
   ]
  },
  {
   "cell_type": "code",
   "execution_count": 1,
   "metadata": {},
   "outputs": [
    {
     "data": {
      "text/plain": [
       "'b'"
      ]
     },
     "execution_count": 1,
     "metadata": {},
     "output_type": "execute_result"
    }
   ],
   "source": [
    "colors = 'red blue yellow'\n",
    "colors[4]"
   ]
  },
  {
   "cell_type": "markdown",
   "metadata": {
    "id": "hDBO0Lu2NzWK"
   },
   "source": [
    "2) `colors`에서 `low`를 추출하는 코드를 작성하라."
   ]
  },
  {
   "cell_type": "code",
   "execution_count": 2,
   "metadata": {},
   "outputs": [
    {
     "data": {
      "text/plain": [
       "'low'"
      ]
     },
     "execution_count": 2,
     "metadata": {},
     "output_type": "execute_result"
    }
   ],
   "source": [
    "colors = 'red blue yellow'\n",
    "colors[-3:]"
   ]
  },
  {
   "cell_type": "markdown",
   "metadata": {},
   "source": [
    "**문제2) 과일 목록을 할당받는 fruit 변수가 아래와 같이 선언되었다.**\n",
    "\n",
    "`fruit = \"banana apple orange pineapple mango strawberry cherry\"`\n",
    "\n",
    "1) 각 과일 단어를 모두 대문자로 변경하려면 어떻게 해야 하는가?"
   ]
  },
  {
   "cell_type": "code",
   "execution_count": 3,
   "metadata": {},
   "outputs": [
    {
     "data": {
      "text/plain": [
       "'BANANA APPLE ORANGE PINEAPPLE MANGO STRAWBERRY CHERRY'"
      ]
     },
     "execution_count": 3,
     "metadata": {},
     "output_type": "execute_result"
    }
   ],
   "source": [
    "fruit = \"banana apple orange pineapple mango strawberry cherry\"\n",
    "fruit.upper()"
   ]
  },
  {
   "cell_type": "markdown",
   "metadata": {},
   "source": [
    "2) `fruit` 변수로부터 대문자 Y를 추출하는 코드를 작성하여라."
   ]
  },
  {
   "cell_type": "code",
   "execution_count": 4,
   "metadata": {},
   "outputs": [
    {
     "data": {
      "text/plain": [
       "'Y'"
      ]
     },
     "execution_count": 4,
     "metadata": {},
     "output_type": "execute_result"
    }
   ],
   "source": [
    "fruit[-1].upper()"
   ]
  },
  {
   "cell_type": "markdown",
   "metadata": {},
   "source": [
    "**문제3) 아래와 같이 선언된 lyrics변수가 있다.**\n",
    "\n",
    "`lyrics = \" When you're smiling, the whole world smiles with you \"`\n",
    "\n",
    "아래의 문제에 답하여라. 단, 특정 메소드들을 사용하여 한 줄 코드로 작성해야 한다.\n",
    "\n",
    "1) 위 문자열 양 끝에 있는 스페이스를 삭제하고, 모든 문자는 대문자로 변환시킨다."
   ]
  },
  {
   "cell_type": "code",
   "execution_count": 7,
   "metadata": {},
   "outputs": [
    {
     "data": {
      "text/plain": [
       "\"WHEN YOU'RE SMILING, THE WHOLE WORLD SMILES WITH YOU\""
      ]
     },
     "execution_count": 7,
     "metadata": {},
     "output_type": "execute_result"
    }
   ],
   "source": [
    "lyrics = \" When you're smiling, the whole world smiles with you \"\n",
    "lyrics.upper().strip()"
   ]
  },
  {
   "cell_type": "markdown",
   "metadata": {},
   "source": [
    "2) 위 문자열 양 끝에 있는 스페이스를 삭제하고, When you're smiling은 When you are smiling으로 변경하여라."
   ]
  },
  {
   "cell_type": "code",
   "execution_count": 11,
   "metadata": {},
   "outputs": [
    {
     "data": {
      "text/plain": [
       "'When you are smiling, the whole world smiles with you'"
      ]
     },
     "execution_count": 11,
     "metadata": {},
     "output_type": "execute_result"
    }
   ],
   "source": [
    "lyrics = \" When you're smiling, the whole world smiles with you \"\n",
    "lyrics.replace(\"'\",\" a\").strip()"
   ]
  },
  {
   "cell_type": "markdown",
   "metadata": {},
   "source": [
    "3) 아래와 같은 결과를 출력하는 코드를 작성하여라.\n",
    "\n",
    "`[\"when\", \"you're\", \"smiling,\", \"the\", \"whole\", \"world\", \"smiles\", \"with\", \"you\"]`"
   ]
  },
  {
   "cell_type": "code",
   "execution_count": 1,
   "metadata": {},
   "outputs": [
    {
     "data": {
      "text/plain": [
       "['',\n",
       " 'when',\n",
       " \"you're\",\n",
       " 'smiling,',\n",
       " 'the',\n",
       " 'whole',\n",
       " 'world',\n",
       " 'smiles',\n",
       " 'with',\n",
       " 'you',\n",
       " '']"
      ]
     },
     "execution_count": 1,
     "metadata": {},
     "output_type": "execute_result"
    }
   ],
   "source": [
    "lyrics = \" When you're smiling, the whole world smiles with you \"\n",
    "lyrics.lower().split(' ')"
   ]
  },
  {
   "cell_type": "markdown",
   "metadata": {},
   "source": [
    "**문제4) 아래 문자열**\n",
    "\n",
    "`'n o r t h w e s t e r n'`\n",
    "\n",
    "**을 이용하여 아래 문자열을 생성하는 코드를 구현하라.**\n",
    "\n",
    "`'Northwestern'`"
   ]
  },
  {
   "cell_type": "code",
   "execution_count": 22,
   "metadata": {},
   "outputs": [
    {
     "name": "stdout",
     "output_type": "stream",
     "text": [
      "Northwestern"
     ]
    }
   ],
   "source": [
    "a='n o r t h w e s t e r n'.capitalize().split(' ')\n",
    "for i in a:\n",
    "    print (i, end=\"\")"
   ]
  },
  {
   "cell_type": "markdown",
   "metadata": {},
   "source": [
    "**문제5) 아래 리스트에 새로운 원소 \"wish\" 를 추가하라. 최소 3가지 방법을 사용해보자.**"
   ]
  },
  {
   "cell_type": "code",
   "execution_count": 26,
   "metadata": {},
   "outputs": [
    {
     "data": {
      "text/plain": [
       "['닥터 스트레인지', '맘마미아2', '서울의 봄', 'wish']"
      ]
     },
     "execution_count": 26,
     "metadata": {},
     "output_type": "execute_result"
    }
   ],
   "source": [
    "movie_list = [\"닥터 스트레인지\", \"맘마미아2\", \"서울의 봄\"]\n",
    "movie_list.append(\"wish\")\n",
    "movie_list"
   ]
  },
  {
   "cell_type": "code",
   "execution_count": 27,
   "metadata": {},
   "outputs": [
    {
     "data": {
      "text/plain": [
       "['닥터 스트레인지', '맘마미아2', '서울의 봄', 'wish']"
      ]
     },
     "execution_count": 27,
     "metadata": {},
     "output_type": "execute_result"
    }
   ],
   "source": [
    "movie_list = [\"닥터 스트레인지\", \"맘마미아2\", \"서울의 봄\"]\n",
    "movie_list.insert(3, \"wish\")\n",
    "movie_list"
   ]
  },
  {
   "cell_type": "code",
   "execution_count": 28,
   "metadata": {},
   "outputs": [
    {
     "data": {
      "text/plain": [
       "['닥터 스트레인지', '맘마미아2', '서울의 봄', 'wish']"
      ]
     },
     "execution_count": 28,
     "metadata": {},
     "output_type": "execute_result"
    }
   ],
   "source": [
    "movie_list = [\"닥터 스트레인지\", \"맘마미아2\", \"서울의 봄\"]\n",
    "movie_list=movie_list+[\"wish\"]\n",
    "movie_list"
   ]
  },
  {
   "cell_type": "markdown",
   "metadata": {},
   "source": [
    "**문제6) 문제5에서 만든 리스트에서 \"닥터 스트레인지\"를 삭제하라. 최소 2가지 방법을 사용해보자.**"
   ]
  },
  {
   "cell_type": "code",
   "execution_count": 29,
   "metadata": {},
   "outputs": [
    {
     "data": {
      "text/plain": [
       "['맘마미아2', '서울의 봄', 'wish']"
      ]
     },
     "execution_count": 29,
     "metadata": {},
     "output_type": "execute_result"
    }
   ],
   "source": [
    "movie_list = [\"닥터 스트레인지\", \"맘마미아2\", \"서울의 봄\", \"wish\"]\n",
    "movie_list.remove(\"닥터 스트레인지\")\n",
    "movie_list"
   ]
  },
  {
   "cell_type": "code",
   "execution_count": 30,
   "metadata": {},
   "outputs": [
    {
     "data": {
      "text/plain": [
       "['맘마미아2', '서울의 봄', 'wish']"
      ]
     },
     "execution_count": 30,
     "metadata": {},
     "output_type": "execute_result"
    }
   ],
   "source": [
    "movie_list = [\"닥터 스트레인지\", \"맘마미아2\", \"서울의 봄\", \"wish\"]\n",
    "del movie_list[0]\n",
    "movie_list"
   ]
  },
  {
   "cell_type": "markdown",
   "metadata": {},
   "source": [
    "**문제7) 아래 리스트에서 3의 배수만 출력해보자.**\n"
   ]
  },
  {
   "cell_type": "code",
   "execution_count": 34,
   "metadata": {},
   "outputs": [
    {
     "name": "stdout",
     "output_type": "stream",
     "text": [
      "3 6 9 "
     ]
    }
   ],
   "source": [
    "nums = [1, 2, 3, 4, 5, 6, 7, 8, 9, 10]\n",
    "for i in nums:\n",
    "    if i%3==0:\n",
    "        print (i, end=\" \")"
   ]
  },
  {
   "cell_type": "markdown",
   "metadata": {},
   "source": [
    "**문제8) 야채 이름이 슬래시 ('/')로 구분되어 하나의 문자열로 저장되어 있다. 이를 basket이라는 variable에 list로 저장하여라.**"
   ]
  },
  {
   "cell_type": "code",
   "execution_count": 36,
   "metadata": {},
   "outputs": [
    {
     "data": {
      "text/plain": [
       "['cucumber', 'carrot', 'onion']"
      ]
     },
     "execution_count": 36,
     "metadata": {},
     "output_type": "execute_result"
    }
   ],
   "source": [
    "vegetables = 'cucumber/carrot/onion'\n",
    "basket = vegetables.split('/')\n",
    "basket"
   ]
  },
  {
   "cell_type": "markdown",
   "metadata": {},
   "source": [
    "**문제9) 주어진 리스트를 내림차순으로 정렬해보자.**"
   ]
  },
  {
   "cell_type": "code",
   "execution_count": 41,
   "metadata": {},
   "outputs": [
    {
     "data": {
      "text/plain": [
       "[10, 9, 5, 4, 3, 2, 1]"
      ]
     },
     "execution_count": 41,
     "metadata": {},
     "output_type": "execute_result"
    }
   ],
   "source": [
    "data = [2, 4, 3, 1, 5, 10, 9]\n",
    "data.sort()\n",
    "data.reverse()\n",
    "data"
   ]
  }
 ],
 "metadata": {
  "colab": {
   "provenance": []
  },
  "kernelspec": {
   "display_name": "Python 3 (ipykernel)",
   "language": "python",
   "name": "python3"
  },
  "language_info": {
   "codemirror_mode": {
    "name": "ipython",
    "version": 3
   },
   "file_extension": ".py",
   "mimetype": "text/x-python",
   "name": "python",
   "nbconvert_exporter": "python",
   "pygments_lexer": "ipython3",
   "version": "3.11.6"
  }
 },
 "nbformat": 4,
 "nbformat_minor": 4
}
