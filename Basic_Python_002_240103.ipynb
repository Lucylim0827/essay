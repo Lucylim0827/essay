{
 "cells": [
  {
   "cell_type": "markdown",
   "id": "b7a3a833",
   "metadata": {},
   "source": [
    "# 01 String"
   ]
  },
  {
   "cell_type": "markdown",
   "id": "e1dee3ab",
   "metadata": {},
   "source": [
    "## 1-1 formatting"
   ]
  },
  {
   "cell_type": "code",
   "execution_count": 1,
   "id": "0b1c4c88",
   "metadata": {},
   "outputs": [
    {
     "name": "stdout",
     "output_type": "stream",
     "text": [
      "first is 2 second is 8 third is 19\n"
     ]
    }
   ],
   "source": [
    "print('first is {0} second is {1} third is {2}'.format(2,8,19))"
   ]
  },
  {
   "cell_type": "code",
   "execution_count": 2,
   "id": "d6d69bc3",
   "metadata": {},
   "outputs": [
    {
     "name": "stdout",
     "output_type": "stream",
     "text": [
      "first is 19 second is 2 third is 8\n"
     ]
    }
   ],
   "source": [
    "print('first is {2} second is {0} third is {1}'.format(2,8,19))"
   ]
  },
  {
   "cell_type": "code",
   "execution_count": 4,
   "id": "0e5b8cd6",
   "metadata": {},
   "outputs": [
    {
     "name": "stdout",
     "output_type": "stream",
     "text": [
      "I ate 3 apples. It was delicious.\n"
     ]
    }
   ],
   "source": [
    "print('I ate {0} apples. It was {1}.'.format(3, 'delicious'))"
   ]
  },
  {
   "cell_type": "code",
   "execution_count": 5,
   "id": "7de3e868",
   "metadata": {},
   "outputs": [
    {
     "name": "stdout",
     "output_type": "stream",
     "text": [
      "I ate 3 apples. It was delicious.\n"
     ]
    }
   ],
   "source": [
    "howmuch = 3\n",
    "taste = 'delicious'\n",
    "print('I ate {0} apples. It was {1}.'.format(howmuch, taste))"
   ]
  },
  {
   "cell_type": "code",
   "execution_count": 6,
   "id": "756a27ba",
   "metadata": {},
   "outputs": [
    {
     "name": "stdout",
     "output_type": "stream",
     "text": [
      "I ate 3 apples. It was delicious.\n"
     ]
    }
   ],
   "source": [
    "# f-formatting\n",
    "# index가 아니라 variable 이름이 그대로 들어감.\n",
    "howmuch = 3\n",
    "taste = 'delicious'\n",
    "print(f'I ate {howmuch} apples. It was {taste}.')"
   ]
  },
  {
   "cell_type": "markdown",
   "id": "aa738796",
   "metadata": {},
   "source": [
    "## 1-2 methods of string"
   ]
  },
  {
   "cell_type": "code",
   "execution_count": 7,
   "id": "5adc33b7",
   "metadata": {},
   "outputs": [],
   "source": [
    "a = 'I LOVE CAT'"
   ]
  },
  {
   "cell_type": "code",
   "execution_count": 8,
   "id": "f94005e0",
   "metadata": {},
   "outputs": [
    {
     "data": {
      "text/plain": [
       "'i love cat'"
      ]
     },
     "execution_count": 8,
     "metadata": {},
     "output_type": "execute_result"
    }
   ],
   "source": [
    "a.lower()"
   ]
  },
  {
   "cell_type": "code",
   "execution_count": 9,
   "id": "96aea7dd",
   "metadata": {},
   "outputs": [
    {
     "data": {
      "text/plain": [
       "'I Love Cat'"
      ]
     },
     "execution_count": 9,
     "metadata": {},
     "output_type": "execute_result"
    }
   ],
   "source": [
    "a.title() # 띄어쓰기를 기준으로 맨 앞 글자가 대문자가 됨."
   ]
  },
  {
   "cell_type": "code",
   "execution_count": 10,
   "id": "2885d35d",
   "metadata": {},
   "outputs": [
    {
     "data": {
      "text/plain": [
       "'I love cat'"
      ]
     },
     "execution_count": 10,
     "metadata": {},
     "output_type": "execute_result"
    }
   ],
   "source": [
    "a.capitalize() # 맨 앞 글자가 대문자가 됨."
   ]
  },
  {
   "cell_type": "code",
   "execution_count": 11,
   "id": "dd08446c",
   "metadata": {},
   "outputs": [],
   "source": [
    "b = '                   puppy'"
   ]
  },
  {
   "cell_type": "code",
   "execution_count": 12,
   "id": "be058d8d",
   "metadata": {},
   "outputs": [
    {
     "data": {
      "text/plain": [
       "'puppy'"
      ]
     },
     "execution_count": 12,
     "metadata": {},
     "output_type": "execute_result"
    }
   ],
   "source": [
    "b[-5:]"
   ]
  },
  {
   "cell_type": "code",
   "execution_count": 13,
   "id": "c83e445e",
   "metadata": {},
   "outputs": [
    {
     "data": {
      "text/plain": [
       "'puppy'"
      ]
     },
     "execution_count": 13,
     "metadata": {},
     "output_type": "execute_result"
    }
   ],
   "source": [
    "b.lstrip()"
   ]
  },
  {
   "cell_type": "code",
   "execution_count": 14,
   "id": "97b5b12c",
   "metadata": {},
   "outputs": [],
   "source": [
    "c = 'cats                     '\n",
    "d = '                 birds                '"
   ]
  },
  {
   "cell_type": "code",
   "execution_count": 15,
   "id": "a6f76758",
   "metadata": {},
   "outputs": [
    {
     "data": {
      "text/plain": [
       "'cats'"
      ]
     },
     "execution_count": 15,
     "metadata": {},
     "output_type": "execute_result"
    }
   ],
   "source": [
    "c.rstrip()"
   ]
  },
  {
   "cell_type": "code",
   "execution_count": 16,
   "id": "9afc8bdd",
   "metadata": {},
   "outputs": [
    {
     "data": {
      "text/plain": [
       "'birds'"
      ]
     },
     "execution_count": 16,
     "metadata": {},
     "output_type": "execute_result"
    }
   ],
   "source": [
    "d.strip()"
   ]
  },
  {
   "cell_type": "markdown",
   "id": "2416fde3",
   "metadata": {},
   "source": [
    "## 1-3 slicing\n",
    "- string[start:end:step]"
   ]
  },
  {
   "cell_type": "code",
   "execution_count": 17,
   "id": "546a9385",
   "metadata": {},
   "outputs": [],
   "source": [
    "e = 'python'"
   ]
  },
  {
   "cell_type": "code",
   "execution_count": 20,
   "id": "07990b47",
   "metadata": {},
   "outputs": [
    {
     "data": {
      "text/plain": [
       "'python'"
      ]
     },
     "execution_count": 20,
     "metadata": {},
     "output_type": "execute_result"
    }
   ],
   "source": [
    "e[::1] # step의 기본값은 1"
   ]
  },
  {
   "cell_type": "code",
   "execution_count": 21,
   "id": "d67eeab5",
   "metadata": {},
   "outputs": [
    {
     "data": {
      "text/plain": [
       "'pto'"
      ]
     },
     "execution_count": 21,
     "metadata": {},
     "output_type": "execute_result"
    }
   ],
   "source": [
    "e[::2]"
   ]
  },
  {
   "cell_type": "code",
   "execution_count": 22,
   "id": "a2f8b508",
   "metadata": {},
   "outputs": [
    {
     "data": {
      "text/plain": [
       "'nohtyp'"
      ]
     },
     "execution_count": 22,
     "metadata": {},
     "output_type": "execute_result"
    }
   ],
   "source": [
    "e[::-1]"
   ]
  },
  {
   "cell_type": "markdown",
   "id": "76d916ae",
   "metadata": {},
   "source": [
    "# 02 List"
   ]
  },
  {
   "cell_type": "markdown",
   "id": "9c847cd0",
   "metadata": {},
   "source": [
    "## 2-1 string을 쪼개서 list로"
   ]
  },
  {
   "cell_type": "code",
   "execution_count": 23,
   "id": "d99d0799",
   "metadata": {},
   "outputs": [],
   "source": [
    "a = 'Life is too short'"
   ]
  },
  {
   "cell_type": "code",
   "execution_count": 24,
   "id": "d087f95b",
   "metadata": {},
   "outputs": [
    {
     "data": {
      "text/plain": [
       "['Life', 'is', 'too', 'short']"
      ]
     },
     "execution_count": 24,
     "metadata": {},
     "output_type": "execute_result"
    }
   ],
   "source": [
    "a.split(' ')"
   ]
  },
  {
   "cell_type": "markdown",
   "id": "60db1dde",
   "metadata": {},
   "source": [
    "## 2-2 세상에는 다양한 list가 있다."
   ]
  },
  {
   "cell_type": "code",
   "execution_count": 25,
   "id": "185e177a",
   "metadata": {},
   "outputs": [],
   "source": [
    "a = [1,2,3,4,5]\n",
    "b = ['dog', 'cat', 'rabbit']"
   ]
  },
  {
   "cell_type": "code",
   "execution_count": 26,
   "id": "b0b016bb",
   "metadata": {},
   "outputs": [],
   "source": [
    "c = [1,2,'cat']"
   ]
  },
  {
   "cell_type": "code",
   "execution_count": 27,
   "id": "58c2845b",
   "metadata": {},
   "outputs": [],
   "source": [
    "d = [1,2,['dog','cat']]"
   ]
  },
  {
   "cell_type": "code",
   "execution_count": 28,
   "id": "bb7703d8",
   "metadata": {},
   "outputs": [],
   "source": [
    "e = []"
   ]
  },
  {
   "cell_type": "markdown",
   "id": "fa8d7003",
   "metadata": {},
   "source": [
    "## 2-3 list indexing, slicing"
   ]
  },
  {
   "cell_type": "code",
   "execution_count": 29,
   "id": "b6d04a3d",
   "metadata": {},
   "outputs": [
    {
     "data": {
      "text/plain": [
       "['dog', 'cat']"
      ]
     },
     "execution_count": 29,
     "metadata": {},
     "output_type": "execute_result"
    }
   ],
   "source": [
    "d[-1]"
   ]
  },
  {
   "cell_type": "code",
   "execution_count": 30,
   "id": "9f115fa9",
   "metadata": {},
   "outputs": [
    {
     "data": {
      "text/plain": [
       "'dog'"
      ]
     },
     "execution_count": 30,
     "metadata": {},
     "output_type": "execute_result"
    }
   ],
   "source": [
    "d[-1][0]"
   ]
  },
  {
   "cell_type": "code",
   "execution_count": 31,
   "id": "47360429",
   "metadata": {},
   "outputs": [
    {
     "name": "stdout",
     "output_type": "stream",
     "text": [
      "1\n",
      "2\n",
      "['dog', 'cat']\n"
     ]
    }
   ],
   "source": [
    "for i in d:\n",
    "    print(i)"
   ]
  },
  {
   "cell_type": "code",
   "execution_count": 32,
   "id": "65985fa0",
   "metadata": {},
   "outputs": [
    {
     "data": {
      "text/plain": [
       "[1, 2, 3, 4, 5]"
      ]
     },
     "execution_count": 32,
     "metadata": {},
     "output_type": "execute_result"
    }
   ],
   "source": [
    "a"
   ]
  },
  {
   "cell_type": "code",
   "execution_count": 33,
   "id": "266eb2d9",
   "metadata": {},
   "outputs": [
    {
     "data": {
      "text/plain": [
       "[1, 2, 3, 4, 5]"
      ]
     },
     "execution_count": 33,
     "metadata": {},
     "output_type": "execute_result"
    }
   ],
   "source": [
    "a[:]"
   ]
  },
  {
   "cell_type": "code",
   "execution_count": 34,
   "id": "5acba032",
   "metadata": {},
   "outputs": [
    {
     "data": {
      "text/plain": [
       "[1, 2, 3]"
      ]
     },
     "execution_count": 34,
     "metadata": {},
     "output_type": "execute_result"
    }
   ],
   "source": [
    "a[:3]"
   ]
  },
  {
   "cell_type": "code",
   "execution_count": 35,
   "id": "32b7a9f9",
   "metadata": {},
   "outputs": [
    {
     "data": {
      "text/plain": [
       "[1, 3, 5]"
      ]
     },
     "execution_count": 35,
     "metadata": {},
     "output_type": "execute_result"
    }
   ],
   "source": [
    "a[::2]"
   ]
  },
  {
   "cell_type": "code",
   "execution_count": 36,
   "id": "9b246af6",
   "metadata": {},
   "outputs": [
    {
     "data": {
      "text/plain": [
       "[2, 4]"
      ]
     },
     "execution_count": 36,
     "metadata": {},
     "output_type": "execute_result"
    }
   ],
   "source": [
    "a[1::2]"
   ]
  },
  {
   "cell_type": "markdown",
   "id": "8e8863f1",
   "metadata": {},
   "source": [
    "## 2-4 element들끼리 연산은 우리가 그 동안 배운 내용이랑 같다."
   ]
  },
  {
   "cell_type": "code",
   "execution_count": 37,
   "id": "db2a3f01",
   "metadata": {},
   "outputs": [
    {
     "data": {
      "text/plain": [
       "4"
      ]
     },
     "execution_count": 37,
     "metadata": {},
     "output_type": "execute_result"
    }
   ],
   "source": [
    "a[0]+a[2]"
   ]
  },
  {
   "cell_type": "code",
   "execution_count": 38,
   "id": "fb7422f8",
   "metadata": {},
   "outputs": [
    {
     "data": {
      "text/plain": [
       "['dog', 'cat', 'rabbit']"
      ]
     },
     "execution_count": 38,
     "metadata": {},
     "output_type": "execute_result"
    }
   ],
   "source": [
    "b"
   ]
  },
  {
   "cell_type": "code",
   "execution_count": 39,
   "id": "6a76f3e6",
   "metadata": {},
   "outputs": [
    {
     "data": {
      "text/plain": [
       "'dogcat'"
      ]
     },
     "execution_count": 39,
     "metadata": {},
     "output_type": "execute_result"
    }
   ],
   "source": [
    "b[0]+b[1]"
   ]
  },
  {
   "cell_type": "markdown",
   "id": "791497a3",
   "metadata": {},
   "source": [
    "## 2-5 list 끼리 연산"
   ]
  },
  {
   "cell_type": "code",
   "execution_count": 40,
   "id": "65f462ab",
   "metadata": {},
   "outputs": [],
   "source": [
    "g = [4,5,6]"
   ]
  },
  {
   "cell_type": "code",
   "execution_count": 41,
   "id": "903803bb",
   "metadata": {},
   "outputs": [
    {
     "data": {
      "text/plain": [
       "[1, 2, ['dog', 'cat']]"
      ]
     },
     "execution_count": 41,
     "metadata": {},
     "output_type": "execute_result"
    }
   ],
   "source": [
    "d"
   ]
  },
  {
   "cell_type": "code",
   "execution_count": 42,
   "id": "025c8f54",
   "metadata": {},
   "outputs": [
    {
     "data": {
      "text/plain": [
       "[1, 2, ['dog', 'cat'], 4, 5, 6]"
      ]
     },
     "execution_count": 42,
     "metadata": {},
     "output_type": "execute_result"
    }
   ],
   "source": [
    "d+g"
   ]
  },
  {
   "cell_type": "code",
   "execution_count": 43,
   "id": "0fb3add2",
   "metadata": {},
   "outputs": [
    {
     "data": {
      "text/plain": [
       "[4, 5, 6, 1, 2, ['dog', 'cat']]"
      ]
     },
     "execution_count": 43,
     "metadata": {},
     "output_type": "execute_result"
    }
   ],
   "source": [
    "g+d"
   ]
  },
  {
   "cell_type": "code",
   "execution_count": 44,
   "id": "6b4cb06f",
   "metadata": {},
   "outputs": [
    {
     "ename": "TypeError",
     "evalue": "unsupported operand type(s) for -: 'list' and 'list'",
     "output_type": "error",
     "traceback": [
      "\u001b[1;31m---------------------------------------------------------------------------\u001b[0m",
      "\u001b[1;31mTypeError\u001b[0m                                 Traceback (most recent call last)",
      "\u001b[1;32m~\\AppData\\Local\\Temp/ipykernel_7376/3552202458.py\u001b[0m in \u001b[0;36m<module>\u001b[1;34m\u001b[0m\n\u001b[1;32m----> 1\u001b[1;33m \u001b[0md\u001b[0m\u001b[1;33m-\u001b[0m\u001b[0mg\u001b[0m\u001b[1;33m\u001b[0m\u001b[1;33m\u001b[0m\u001b[0m\n\u001b[0m",
      "\u001b[1;31mTypeError\u001b[0m: unsupported operand type(s) for -: 'list' and 'list'"
     ]
    }
   ],
   "source": [
    "d-g"
   ]
  },
  {
   "cell_type": "code",
   "execution_count": 45,
   "id": "2f3fed0b",
   "metadata": {},
   "outputs": [
    {
     "ename": "TypeError",
     "evalue": "can't multiply sequence by non-int of type 'list'",
     "output_type": "error",
     "traceback": [
      "\u001b[1;31m---------------------------------------------------------------------------\u001b[0m",
      "\u001b[1;31mTypeError\u001b[0m                                 Traceback (most recent call last)",
      "\u001b[1;32m~\\AppData\\Local\\Temp/ipykernel_7376/1270499625.py\u001b[0m in \u001b[0;36m<module>\u001b[1;34m\u001b[0m\n\u001b[1;32m----> 1\u001b[1;33m \u001b[0md\u001b[0m\u001b[1;33m*\u001b[0m\u001b[0mg\u001b[0m\u001b[1;33m\u001b[0m\u001b[1;33m\u001b[0m\u001b[0m\n\u001b[0m",
      "\u001b[1;31mTypeError\u001b[0m: can't multiply sequence by non-int of type 'list'"
     ]
    }
   ],
   "source": [
    "d*g"
   ]
  },
  {
   "cell_type": "code",
   "execution_count": 46,
   "id": "0e677ca5",
   "metadata": {},
   "outputs": [
    {
     "ename": "TypeError",
     "evalue": "unsupported operand type(s) for /: 'list' and 'list'",
     "output_type": "error",
     "traceback": [
      "\u001b[1;31m---------------------------------------------------------------------------\u001b[0m",
      "\u001b[1;31mTypeError\u001b[0m                                 Traceback (most recent call last)",
      "\u001b[1;32m~\\AppData\\Local\\Temp/ipykernel_7376/524319738.py\u001b[0m in \u001b[0;36m<module>\u001b[1;34m\u001b[0m\n\u001b[1;32m----> 1\u001b[1;33m \u001b[0md\u001b[0m\u001b[1;33m/\u001b[0m\u001b[0mg\u001b[0m\u001b[1;33m\u001b[0m\u001b[1;33m\u001b[0m\u001b[0m\n\u001b[0m",
      "\u001b[1;31mTypeError\u001b[0m: unsupported operand type(s) for /: 'list' and 'list'"
     ]
    }
   ],
   "source": [
    "d/g"
   ]
  },
  {
   "cell_type": "code",
   "execution_count": 47,
   "id": "91c69c2d",
   "metadata": {},
   "outputs": [
    {
     "data": {
      "text/plain": [
       "[4, 5, 6, 4, 5, 6, 4, 5, 6]"
      ]
     },
     "execution_count": 47,
     "metadata": {},
     "output_type": "execute_result"
    }
   ],
   "source": [
    "3*g #(=g+g+g)"
   ]
  },
  {
   "cell_type": "code",
   "execution_count": 48,
   "id": "acc56af4",
   "metadata": {},
   "outputs": [
    {
     "data": {
      "text/plain": [
       "[4, 5, 6, 7]"
      ]
     },
     "execution_count": 48,
     "metadata": {},
     "output_type": "execute_result"
    }
   ],
   "source": [
    "# [4,5,6,7] 만들고 싶으면?\n",
    "g+[7]"
   ]
  },
  {
   "cell_type": "code",
   "execution_count": 49,
   "id": "c823e9d5",
   "metadata": {},
   "outputs": [],
   "source": [
    "g.append(7) # g에 append라는 method를 사용하면 g가 바뀐다!"
   ]
  },
  {
   "cell_type": "code",
   "execution_count": 50,
   "id": "8bd4968f",
   "metadata": {},
   "outputs": [
    {
     "data": {
      "text/plain": [
       "[4, 5, 6, 7]"
      ]
     },
     "execution_count": 50,
     "metadata": {},
     "output_type": "execute_result"
    }
   ],
   "source": [
    "g"
   ]
  },
  {
   "cell_type": "code",
   "execution_count": 51,
   "id": "f10d1978",
   "metadata": {},
   "outputs": [
    {
     "ename": "TypeError",
     "evalue": "can only concatenate list (not \"int\") to list",
     "output_type": "error",
     "traceback": [
      "\u001b[1;31m---------------------------------------------------------------------------\u001b[0m",
      "\u001b[1;31mTypeError\u001b[0m                                 Traceback (most recent call last)",
      "\u001b[1;32m~\\AppData\\Local\\Temp/ipykernel_7376/2058488895.py\u001b[0m in \u001b[0;36m<module>\u001b[1;34m\u001b[0m\n\u001b[1;32m----> 1\u001b[1;33m \u001b[0mg\u001b[0m\u001b[1;33m+\u001b[0m\u001b[1;36m7\u001b[0m\u001b[1;33m\u001b[0m\u001b[1;33m\u001b[0m\u001b[0m\n\u001b[0m",
      "\u001b[1;31mTypeError\u001b[0m: can only concatenate list (not \"int\") to list"
     ]
    }
   ],
   "source": [
    "g+7"
   ]
  },
  {
   "cell_type": "markdown",
   "id": "3b2e9f83",
   "metadata": {},
   "source": [
    "## 2-6 원소 삭제 및 변경"
   ]
  },
  {
   "cell_type": "code",
   "execution_count": 52,
   "id": "085fdba8",
   "metadata": {},
   "outputs": [],
   "source": [
    "a = ['shark', 'dog', 'hamster']"
   ]
  },
  {
   "cell_type": "code",
   "execution_count": 53,
   "id": "9ce1e324",
   "metadata": {},
   "outputs": [],
   "source": [
    "del a[1]"
   ]
  },
  {
   "cell_type": "code",
   "execution_count": 54,
   "id": "88868c62",
   "metadata": {},
   "outputs": [
    {
     "data": {
      "text/plain": [
       "['shark', 'hamster']"
      ]
     },
     "execution_count": 54,
     "metadata": {},
     "output_type": "execute_result"
    }
   ],
   "source": [
    "a"
   ]
  },
  {
   "cell_type": "code",
   "execution_count": 55,
   "id": "37c43e51",
   "metadata": {},
   "outputs": [],
   "source": [
    "a = ['shark', 'dog', 'hamster']"
   ]
  },
  {
   "cell_type": "code",
   "execution_count": 56,
   "id": "42ec1281",
   "metadata": {},
   "outputs": [],
   "source": [
    "del a[1:]"
   ]
  },
  {
   "cell_type": "code",
   "execution_count": 57,
   "id": "8f1c9a6b",
   "metadata": {},
   "outputs": [
    {
     "data": {
      "text/plain": [
       "['shark']"
      ]
     },
     "execution_count": 57,
     "metadata": {},
     "output_type": "execute_result"
    }
   ],
   "source": [
    "a"
   ]
  },
  {
   "cell_type": "code",
   "execution_count": 58,
   "id": "2c8671e6",
   "metadata": {},
   "outputs": [],
   "source": [
    "a = ['shark', 'dog', 'hamster']"
   ]
  },
  {
   "cell_type": "code",
   "execution_count": 59,
   "id": "5e320836",
   "metadata": {},
   "outputs": [],
   "source": [
    "a[0] = 'cat' # list는 변경 가능!"
   ]
  },
  {
   "cell_type": "code",
   "execution_count": 60,
   "id": "5d9891ea",
   "metadata": {},
   "outputs": [
    {
     "data": {
      "text/plain": [
       "['cat', 'dog', 'hamster']"
      ]
     },
     "execution_count": 60,
     "metadata": {},
     "output_type": "execute_result"
    }
   ],
   "source": [
    "a"
   ]
  },
  {
   "cell_type": "markdown",
   "id": "ad80409d",
   "metadata": {},
   "source": [
    "## 2-7 원소 정렬"
   ]
  },
  {
   "cell_type": "code",
   "execution_count": 61,
   "id": "6d3f495d",
   "metadata": {},
   "outputs": [],
   "source": [
    "a = [1,9,7,3]"
   ]
  },
  {
   "cell_type": "code",
   "execution_count": 62,
   "id": "4055fe9c",
   "metadata": {},
   "outputs": [
    {
     "data": {
      "text/plain": [
       "[1, 3, 7, 9]"
      ]
     },
     "execution_count": 62,
     "metadata": {},
     "output_type": "execute_result"
    }
   ],
   "source": [
    "sorted(a)\n",
    "# 함수 sorted를 적용하면 a가 바뀌는게 아님.\n",
    "# a에 sorted를 적용한 값이 화면에 나오는 것 뿐."
   ]
  },
  {
   "cell_type": "code",
   "execution_count": 63,
   "id": "315621fa",
   "metadata": {},
   "outputs": [
    {
     "data": {
      "text/plain": [
       "[1, 9, 7, 3]"
      ]
     },
     "execution_count": 63,
     "metadata": {},
     "output_type": "execute_result"
    }
   ],
   "source": [
    "a"
   ]
  },
  {
   "cell_type": "code",
   "execution_count": 64,
   "id": "d22fc00e",
   "metadata": {},
   "outputs": [],
   "source": [
    "a.sort()\n",
    "# 메쏘드 sort()를 적용하면 a가 바뀜!"
   ]
  },
  {
   "cell_type": "code",
   "execution_count": 65,
   "id": "a0f530c2",
   "metadata": {},
   "outputs": [
    {
     "data": {
      "text/plain": [
       "[1, 3, 7, 9]"
      ]
     },
     "execution_count": 65,
     "metadata": {},
     "output_type": "execute_result"
    }
   ],
   "source": [
    "a"
   ]
  },
  {
   "cell_type": "code",
   "execution_count": 66,
   "id": "8bcbec14",
   "metadata": {},
   "outputs": [],
   "source": [
    "a.reverse()"
   ]
  },
  {
   "cell_type": "code",
   "execution_count": 67,
   "id": "e61f2c90",
   "metadata": {},
   "outputs": [
    {
     "data": {
      "text/plain": [
       "[9, 7, 3, 1]"
      ]
     },
     "execution_count": 67,
     "metadata": {},
     "output_type": "execute_result"
    }
   ],
   "source": [
    "a"
   ]
  },
  {
   "cell_type": "code",
   "execution_count": 70,
   "id": "52a6acf8",
   "metadata": {},
   "outputs": [],
   "source": [
    "a = [1,9,7,3]"
   ]
  },
  {
   "cell_type": "code",
   "execution_count": 71,
   "id": "dcaa3646",
   "metadata": {},
   "outputs": [],
   "source": [
    "a.sort()\n",
    "a.reverse()"
   ]
  },
  {
   "cell_type": "code",
   "execution_count": 72,
   "id": "1bfa64aa",
   "metadata": {},
   "outputs": [
    {
     "data": {
      "text/plain": [
       "[9, 7, 3, 1]"
      ]
     },
     "execution_count": 72,
     "metadata": {},
     "output_type": "execute_result"
    }
   ],
   "source": [
    "a"
   ]
  },
  {
   "cell_type": "code",
   "execution_count": 73,
   "id": "a13d91b4",
   "metadata": {},
   "outputs": [],
   "source": [
    "b = ['b','a','c']"
   ]
  },
  {
   "cell_type": "code",
   "execution_count": 74,
   "id": "71ce503b",
   "metadata": {},
   "outputs": [],
   "source": [
    "b.sort()"
   ]
  },
  {
   "cell_type": "code",
   "execution_count": 82,
   "id": "93e23dea",
   "metadata": {},
   "outputs": [
    {
     "data": {
      "text/plain": [
       "['a', 'b', 'c']"
      ]
     },
     "execution_count": 82,
     "metadata": {},
     "output_type": "execute_result"
    }
   ],
   "source": [
    "b"
   ]
  },
  {
   "cell_type": "code",
   "execution_count": 83,
   "id": "3099b4b2",
   "metadata": {},
   "outputs": [],
   "source": [
    "b.reverse()"
   ]
  },
  {
   "cell_type": "code",
   "execution_count": 84,
   "id": "82c999c8",
   "metadata": {},
   "outputs": [
    {
     "data": {
      "text/plain": [
       "['c', 'b', 'a']"
      ]
     },
     "execution_count": 84,
     "metadata": {},
     "output_type": "execute_result"
    }
   ],
   "source": [
    "b"
   ]
  },
  {
   "cell_type": "code",
   "execution_count": 79,
   "id": "76ed57a3",
   "metadata": {},
   "outputs": [],
   "source": [
    "c = ['a', 'A']"
   ]
  },
  {
   "cell_type": "code",
   "execution_count": 80,
   "id": "bfbed574",
   "metadata": {},
   "outputs": [],
   "source": [
    "c.sort()"
   ]
  },
  {
   "cell_type": "code",
   "execution_count": 81,
   "id": "1e18f5f5",
   "metadata": {},
   "outputs": [
    {
     "data": {
      "text/plain": [
       "['A', 'a']"
      ]
     },
     "execution_count": 81,
     "metadata": {},
     "output_type": "execute_result"
    }
   ],
   "source": [
    "c"
   ]
  },
  {
   "cell_type": "code",
   "execution_count": 85,
   "id": "3d02b69b",
   "metadata": {},
   "outputs": [],
   "source": [
    "a = [1,9,7,3]"
   ]
  },
  {
   "cell_type": "code",
   "execution_count": 86,
   "id": "847a5dba",
   "metadata": {},
   "outputs": [],
   "source": [
    "a.reverse()"
   ]
  },
  {
   "cell_type": "code",
   "execution_count": 87,
   "id": "0d900661",
   "metadata": {},
   "outputs": [
    {
     "data": {
      "text/plain": [
       "[3, 7, 9, 1]"
      ]
     },
     "execution_count": 87,
     "metadata": {},
     "output_type": "execute_result"
    }
   ],
   "source": [
    "a"
   ]
  },
  {
   "cell_type": "markdown",
   "id": "14ff9601",
   "metadata": {},
   "source": [
    "## 2-8 원소 삽입"
   ]
  },
  {
   "cell_type": "code",
   "execution_count": 88,
   "id": "ef6caeca",
   "metadata": {},
   "outputs": [],
   "source": [
    "numbers = [1,2,4,5]"
   ]
  },
  {
   "cell_type": "code",
   "execution_count": 89,
   "id": "4289519e",
   "metadata": {},
   "outputs": [],
   "source": [
    "numbers.insert(2,3) # 3이라는 원소를 index 2번 자리에 넣어라"
   ]
  },
  {
   "cell_type": "code",
   "execution_count": 90,
   "id": "5800cd61",
   "metadata": {},
   "outputs": [
    {
     "data": {
      "text/plain": [
       "[1, 2, 3, 4, 5]"
      ]
     },
     "execution_count": 90,
     "metadata": {},
     "output_type": "execute_result"
    }
   ],
   "source": [
    "numbers"
   ]
  },
  {
   "cell_type": "code",
   "execution_count": 91,
   "id": "c562bc56",
   "metadata": {},
   "outputs": [],
   "source": [
    "numbers.remove(4) # 4라는 원소를 지워라"
   ]
  },
  {
   "cell_type": "code",
   "execution_count": 92,
   "id": "58aa7c5b",
   "metadata": {},
   "outputs": [
    {
     "data": {
      "text/plain": [
       "[1, 2, 3, 5]"
      ]
     },
     "execution_count": 92,
     "metadata": {},
     "output_type": "execute_result"
    }
   ],
   "source": [
    "numbers"
   ]
  },
  {
   "cell_type": "code",
   "execution_count": 93,
   "id": "9dfde056",
   "metadata": {},
   "outputs": [],
   "source": [
    "many_numbers = 2*numbers"
   ]
  },
  {
   "cell_type": "code",
   "execution_count": 94,
   "id": "c2daa395",
   "metadata": {},
   "outputs": [
    {
     "data": {
      "text/plain": [
       "[1, 2, 3, 5, 1, 2, 3, 5]"
      ]
     },
     "execution_count": 94,
     "metadata": {},
     "output_type": "execute_result"
    }
   ],
   "source": [
    "many_numbers"
   ]
  },
  {
   "cell_type": "markdown",
   "id": "3b7018a6",
   "metadata": {},
   "source": [
    "## 2-9 원소 삭제 (2)"
   ]
  },
  {
   "cell_type": "code",
   "execution_count": 95,
   "id": "19481462",
   "metadata": {},
   "outputs": [],
   "source": [
    "many_numbers.remove(3)\n",
    "# list 안에 3이 많이 있는데 remove를 하라 하면 제일 첫 번째 3을 지움."
   ]
  },
  {
   "cell_type": "code",
   "execution_count": 96,
   "id": "edd17a0f",
   "metadata": {},
   "outputs": [
    {
     "data": {
      "text/plain": [
       "[1, 2, 5, 1, 2, 3, 5]"
      ]
     },
     "execution_count": 96,
     "metadata": {},
     "output_type": "execute_result"
    }
   ],
   "source": [
    "many_numbers"
   ]
  },
  {
   "cell_type": "code",
   "execution_count": 97,
   "id": "ca53a2ed",
   "metadata": {},
   "outputs": [
    {
     "data": {
      "text/plain": [
       "5"
      ]
     },
     "execution_count": 97,
     "metadata": {},
     "output_type": "execute_result"
    }
   ],
   "source": [
    "many_numbers.pop() # 맨 마지막 원소를 보여주고 삭제함.\n",
    "# 맨 마지막 원소를 가지고 와서 버림.."
   ]
  },
  {
   "cell_type": "code",
   "execution_count": 98,
   "id": "4dc83174",
   "metadata": {},
   "outputs": [
    {
     "data": {
      "text/plain": [
       "[1, 2, 5, 1, 2, 3]"
      ]
     },
     "execution_count": 98,
     "metadata": {},
     "output_type": "execute_result"
    }
   ],
   "source": [
    "many_numbers"
   ]
  },
  {
   "cell_type": "code",
   "execution_count": 99,
   "id": "908910aa",
   "metadata": {},
   "outputs": [
    {
     "data": {
      "text/plain": [
       "5"
      ]
     },
     "execution_count": 99,
     "metadata": {},
     "output_type": "execute_result"
    }
   ],
   "source": [
    "many_numbers.pop(2) # pop 안에는 index가 들어가는데 기본값이 -1"
   ]
  },
  {
   "cell_type": "code",
   "execution_count": 100,
   "id": "06b260b7",
   "metadata": {},
   "outputs": [
    {
     "data": {
      "text/plain": [
       "[1, 2, 1, 2, 3]"
      ]
     },
     "execution_count": 100,
     "metadata": {},
     "output_type": "execute_result"
    }
   ],
   "source": [
    "many_numbers"
   ]
  },
  {
   "cell_type": "markdown",
   "id": "f509f24c",
   "metadata": {},
   "source": [
    "## 2-10 기타 methods"
   ]
  },
  {
   "cell_type": "code",
   "execution_count": 101,
   "id": "3dc6c468",
   "metadata": {},
   "outputs": [],
   "source": [
    "a = ['apple', 'banana', 'coke', 'banana']"
   ]
  },
  {
   "cell_type": "code",
   "execution_count": 102,
   "id": "95f9e6fb",
   "metadata": {},
   "outputs": [
    {
     "data": {
      "text/plain": [
       "['apple', 'banana', 'coke', 'banana']"
      ]
     },
     "execution_count": 102,
     "metadata": {},
     "output_type": "execute_result"
    }
   ],
   "source": [
    "a # list는 중복 허용"
   ]
  },
  {
   "cell_type": "code",
   "execution_count": 103,
   "id": "b8b079b0",
   "metadata": {},
   "outputs": [
    {
     "data": {
      "text/plain": [
       "2"
      ]
     },
     "execution_count": 103,
     "metadata": {},
     "output_type": "execute_result"
    }
   ],
   "source": [
    "a.count('banana')"
   ]
  },
  {
   "cell_type": "code",
   "execution_count": 104,
   "id": "6b14d18f",
   "metadata": {},
   "outputs": [
    {
     "data": {
      "text/plain": [
       "3"
      ]
     },
     "execution_count": 104,
     "metadata": {},
     "output_type": "execute_result"
    }
   ],
   "source": [
    "'banana'.count('a')"
   ]
  },
  {
   "cell_type": "code",
   "execution_count": null,
   "id": "04bfa6dd",
   "metadata": {},
   "outputs": [],
   "source": []
  }
 ],
 "metadata": {
  "kernelspec": {
   "display_name": "Python 3 (ipykernel)",
   "language": "python",
   "name": "python3"
  },
  "language_info": {
   "codemirror_mode": {
    "name": "ipython",
    "version": 3
   },
   "file_extension": ".py",
   "mimetype": "text/x-python",
   "name": "python",
   "nbconvert_exporter": "python",
   "pygments_lexer": "ipython3",
   "version": "3.11.6"
  }
 },
 "nbformat": 4,
 "nbformat_minor": 5
}
